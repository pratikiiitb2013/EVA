{
  "nbformat": 4,
  "nbformat_minor": 0,
  "metadata": {
    "colab": {
      "name": "3.ipynb",
      "version": "0.3.2",
      "provenance": [],
      "collapsed_sections": [],
      "include_colab_link": true
    },
    "kernelspec": {
      "name": "python3",
      "display_name": "Python 3"
    },
    "accelerator": "GPU"
  },
  "cells": [
    {
      "cell_type": "markdown",
      "metadata": {
        "id": "view-in-github",
        "colab_type": "text"
      },
      "source": [
        "<a href=\"https://colab.research.google.com/github/pratikiiitb2013/EVA/blob/master/Session4/3.ipynb\" target=\"_parent\"><img src=\"https://colab.research.google.com/assets/colab-badge.svg\" alt=\"Open In Colab\"/></a>"
      ]
    },
    {
      "cell_type": "markdown",
      "metadata": {
        "id": "jIxVsbA-L8Rq",
        "colab_type": "text"
      },
      "source": [
        "### This code is an improvement over last network - \n",
        "* In last network, architecture was improved(increasing #kernels blocks) and #parameters(kernels) were optimized.\n",
        "* Last code, best Vacc = 99.09\n",
        "* In this code, added batch normalization and dropout iteratively.\n",
        "* I have added batch norm first and then few iterations with different values of dropout. Logs for each of these iterations can be seen below.\n",
        "* Though log is shown for different iterations, code is the final one which I will take to next code.\n",
        "  \n",
        "### Observations - \n",
        "* Batch norm can increase Vacc slightly, here it is increased from 99.09 to 99.21\n",
        "* Although batch norm increases Vacc, we can still see some overfitting(difference between Test acc and Vacc is large - around 0.40)\n",
        "* Batch norm is increasing #params slightly by 492\n",
        "* Batch norm increases training time little, because of more computing and more #params to be trained.\n",
        "* Now we have seen slight overfitting, that we can take as next step to overcome.\n",
        "* For that, we can add dropout.\n",
        "* Started with dropout = 0.25, which gives 99.22 Vacc. That means not an improvement over BN. But it is because 25% droping out is too much.\n",
        "* Tried further with dropout value of 0.15, 0.10, 0.05. With 0.15 it is better than 0.25, but best result is with dropout = 0.10, that is Vacc = 99.38. Adding too much or too less dropout will reduce accuracy.\n",
        "* Although best dropout percentage is needed, still we can see reduction in overfitting across iterations with different dropouts.\n",
        "* train accuracy don't increase exponentially when using dropout, thus reducing overfitting\n",
        "\n",
        "### Learnings and Conclusion - \n",
        "* Batch norm can increase Vacc, if the architecture is good.\n",
        "* Adding dropout can reduce overfitting, but the dropout percentage needs to be optimal. Here 10% is giving best results.\n",
        "* We are able to increase Vacc from 99.09 to 99.38 by adding BN and dropout.\n",
        "* We can try other things like increasing #epochs, changing batch size, changing learning rate to increase out accuracy further."
      ]
    },
    {
      "cell_type": "markdown",
      "metadata": {
        "id": "aNyZv-Ec52ot",
        "colab_type": "text"
      },
      "source": [
        "# **Import Libraries and modules**"
      ]
    },
    {
      "cell_type": "code",
      "metadata": {
        "id": "3m3w1Cw49Zkt",
        "colab_type": "code",
        "outputId": "eae00a51-1818-4eb1-92c0-9689ad9b543d",
        "colab": {
          "base_uri": "https://localhost:8080/",
          "height": 34
        }
      },
      "source": [
        "# https://keras.io/\n",
        "!pip install -q keras\n",
        "import keras"
      ],
      "execution_count": 1,
      "outputs": [
        {
          "output_type": "stream",
          "text": [
            "Using TensorFlow backend.\n"
          ],
          "name": "stderr"
        }
      ]
    },
    {
      "cell_type": "code",
      "metadata": {
        "id": "Eso6UHE080D4",
        "colab_type": "code",
        "colab": {}
      },
      "source": [
        "import numpy as np\n",
        "\n",
        "from keras.models import Sequential\n",
        "from keras.layers import Dense, Dropout, Activation, Flatten, Add, BatchNormalization\n",
        "from keras.layers import Convolution2D, MaxPooling2D\n",
        "from keras.utils import np_utils\n",
        "\n",
        "from keras.datasets import mnist"
      ],
      "execution_count": 0,
      "outputs": []
    },
    {
      "cell_type": "markdown",
      "metadata": {
        "id": "zByEi95J86RD",
        "colab_type": "text"
      },
      "source": [
        "### Load pre-shuffled MNIST data into train and test sets"
      ]
    },
    {
      "cell_type": "code",
      "metadata": {
        "id": "7eRM0QWN83PV",
        "colab_type": "code",
        "colab": {}
      },
      "source": [
        "(X_train, y_train), (X_test, y_test) = mnist.load_data()"
      ],
      "execution_count": 0,
      "outputs": []
    },
    {
      "cell_type": "code",
      "metadata": {
        "id": "4a4Be72j8-ZC",
        "colab_type": "code",
        "outputId": "e9d1066f-19aa-49a9-f724-e1d230580ef7",
        "colab": {
          "base_uri": "https://localhost:8080/",
          "height": 303
        }
      },
      "source": [
        "print (X_train.shape)\n",
        "from matplotlib import pyplot as plt\n",
        "%matplotlib inline\n",
        "plt.imshow(X_train[0])"
      ],
      "execution_count": 4,
      "outputs": [
        {
          "output_type": "stream",
          "text": [
            "(60000, 28, 28)\n"
          ],
          "name": "stdout"
        },
        {
          "output_type": "execute_result",
          "data": {
            "text/plain": [
              "<matplotlib.image.AxesImage at 0x7f954fdeb358>"
            ]
          },
          "metadata": {
            "tags": []
          },
          "execution_count": 4
        },
        {
          "output_type": "display_data",
          "data": {
            "image/png": "[encoded data removed]",
            "text/plain": [
              "<Figure size 432x288 with 1 Axes>"
            ]
          },
          "metadata": {
            "tags": []
          }
        }
      ]
    },
    {
      "cell_type": "code",
      "metadata": {
        "id": "dkmprriw9AnZ",
        "colab_type": "code",
        "colab": {}
      },
      "source": [
        "X_train = X_train.reshape(X_train.shape[0], 28, 28,1)\n",
        "X_test = X_test.reshape(X_test.shape[0], 28, 28,1)"
      ],
      "execution_count": 0,
      "outputs": []
    },
    {
      "cell_type": "code",
      "metadata": {
        "id": "X2m4YS4E9CRh",
        "colab_type": "code",
        "colab": {}
      },
      "source": [
        "X_train = X_train.astype('float32')\n",
        "X_test = X_test.astype('float32')\n",
        "X_train /= 255\n",
        "X_test /= 255"
      ],
      "execution_count": 0,
      "outputs": []
    },
    {
      "cell_type": "code",
      "metadata": {
        "id": "0Mn0vAYD9DvB",
        "colab_type": "code",
        "outputId": "8c8d0301-c3df-4ca2-e430-5207ec0f01c0",
        "colab": {
          "base_uri": "https://localhost:8080/",
          "height": 34
        }
      },
      "source": [
        "y_train[:10]"
      ],
      "execution_count": 7,
      "outputs": [
        {
          "output_type": "execute_result",
          "data": {
            "text/plain": [
              "array([5, 0, 4, 1, 9, 2, 1, 3, 1, 4], dtype=uint8)"
            ]
          },
          "metadata": {
            "tags": []
          },
          "execution_count": 7
        }
      ]
    },
    {
      "cell_type": "code",
      "metadata": {
        "id": "ZG8JiXR39FHC",
        "colab_type": "code",
        "colab": {}
      },
      "source": [
        "# Convert 1-dimensional class arrays to 10-dimensional class matrices\n",
        "Y_train = np_utils.to_categorical(y_train, 10)\n",
        "Y_test = np_utils.to_categorical(y_test, 10)"
      ],
      "execution_count": 0,
      "outputs": []
    },
    {
      "cell_type": "code",
      "metadata": {
        "id": "fYlFRvKS9HMB",
        "colab_type": "code",
        "outputId": "8ccd3568-98cf-4da0-f0b8-9761957f0b5f",
        "colab": {
          "base_uri": "https://localhost:8080/",
          "height": 187
        }
      },
      "source": [
        "Y_train[:10]\n"
      ],
      "execution_count": 9,
      "outputs": [
        {
          "output_type": "execute_result",
          "data": {
            "text/plain": [
              "array([[0., 0., 0., 0., 0., 1., 0., 0., 0., 0.],\n",
              "       [1., 0., 0., 0., 0., 0., 0., 0., 0., 0.],\n",
              "       [0., 0., 0., 0., 1., 0., 0., 0., 0., 0.],\n",
              "       [0., 1., 0., 0., 0., 0., 0., 0., 0., 0.],\n",
              "       [0., 0., 0., 0., 0., 0., 0., 0., 0., 1.],\n",
              "       [0., 0., 1., 0., 0., 0., 0., 0., 0., 0.],\n",
              "       [0., 1., 0., 0., 0., 0., 0., 0., 0., 0.],\n",
              "       [0., 0., 0., 1., 0., 0., 0., 0., 0., 0.],\n",
              "       [0., 1., 0., 0., 0., 0., 0., 0., 0., 0.],\n",
              "       [0., 0., 0., 0., 1., 0., 0., 0., 0., 0.]], dtype=float32)"
            ]
          },
          "metadata": {
            "tags": []
          },
          "execution_count": 9
        }
      ]
    },
    {
      "cell_type": "code",
      "metadata": {
        "id": "osKqT73Q9JJB",
        "colab_type": "code",
        "outputId": "14aaf93c-f759-4ff4-ee75-70d6a139a144",
        "colab": {
          "base_uri": "https://localhost:8080/",
          "height": 258
        }
      },
      "source": [
        "from keras.layers import Activation\n",
        "model = Sequential()\n",
        "\n",
        "\n",
        "\n",
        "model.add(Convolution2D(18, 3, 3, activation='relu', input_shape=(28,28,1)))\n",
        "model.add(BatchNormalization())\n",
        "model.add(Dropout(0.10))\n",
        "model.add(Convolution2D(23, 3, 3, activation='relu'))\n",
        "model.add(BatchNormalization())\n",
        "\n",
        "model.add(MaxPooling2D(pool_size=(2, 2)))\n",
        "model.add(Convolution2D(18, 1, 1, activation='relu'))\n",
        "model.add(BatchNormalization())\n",
        "model.add(Dropout(0.10))\n",
        "model.add(Convolution2D(23, 3, 3, activation='relu'))\n",
        "model.add(BatchNormalization())\n",
        "\n",
        "model.add(MaxPooling2D(pool_size=(2, 2)))\n",
        "model.add(Convolution2D(18, 1, 1, activation='relu'))\n",
        "model.add(BatchNormalization())\n",
        "model.add(Dropout(0.10))\n",
        "model.add(Convolution2D(23, 3, 3, activation='relu'))\n",
        "model.add(BatchNormalization())\n",
        "model.add(Dropout(0.10))\n",
        "model.add(Convolution2D(10, 3))\n",
        "model.add(Flatten())\n",
        "model.add(Activation('softmax'))\n",
        "\n",
        "\n"
      ],
      "execution_count": 10,
      "outputs": [
        {
          "output_type": "stream",
          "text": [
            "WARNING:tensorflow:From /usr/local/lib/python3.6/dist-packages/tensorflow/python/framework/op_def_library.py:263: colocate_with (from tensorflow.python.framework.ops) is deprecated and will be removed in a future version.\n",
            "Instructions for updating:\n",
            "Colocations handled automatically by placer.\n"
          ],
          "name": "stdout"
        },
        {
          "output_type": "stream",
          "text": [
            "/usr/local/lib/python3.6/dist-packages/ipykernel_launcher.py:6: UserWarning: Update your `Conv2D` call to the Keras 2 API: `Conv2D(18, (3, 3), activation=\"relu\", input_shape=(28, 28, 1...)`\n",
            "  \n",
            "/usr/local/lib/python3.6/dist-packages/ipykernel_launcher.py:9: UserWarning: Update your `Conv2D` call to the Keras 2 API: `Conv2D(23, (3, 3), activation=\"relu\")`\n",
            "  if __name__ == '__main__':\n",
            "/usr/local/lib/python3.6/dist-packages/ipykernel_launcher.py:13: UserWarning: Update your `Conv2D` call to the Keras 2 API: `Conv2D(18, (1, 1), activation=\"relu\")`\n",
            "  del sys.path[0]\n",
            "/usr/local/lib/python3.6/dist-packages/ipykernel_launcher.py:16: UserWarning: Update your `Conv2D` call to the Keras 2 API: `Conv2D(23, (3, 3), activation=\"relu\")`\n",
            "  app.launch_new_instance()\n",
            "/usr/local/lib/python3.6/dist-packages/ipykernel_launcher.py:20: UserWarning: Update your `Conv2D` call to the Keras 2 API: `Conv2D(18, (1, 1), activation=\"relu\")`\n",
            "/usr/local/lib/python3.6/dist-packages/ipykernel_launcher.py:23: UserWarning: Update your `Conv2D` call to the Keras 2 API: `Conv2D(23, (3, 3), activation=\"relu\")`\n"
          ],
          "name": "stderr"
        }
      ]
    },
    {
      "cell_type": "code",
      "metadata": {
        "id": "TzdAYg1k9K7Z",
        "colab_type": "code",
        "outputId": "793d6fe1-f556-4a12-c2dd-954976c8075c",
        "colab": {
          "base_uri": "https://localhost:8080/",
          "height": 714
        }
      },
      "source": [
        "model.summary()"
      ],
      "execution_count": 11,
      "outputs": [
        {
          "output_type": "stream",
          "text": [
            "_________________________________________________________________\n",
            "Layer (type)                 Output Shape              Param #   \n",
            "=================================================================\n",
            "conv2d_1 (Conv2D)            (None, 26, 26, 18)        180       \n",
            "_________________________________________________________________\n",
            "batch_normalization_1 (Batch (None, 26, 26, 18)        72        \n",
            "_________________________________________________________________\n",
            "conv2d_2 (Conv2D)            (None, 24, 24, 23)        3749      \n",
            "_________________________________________________________________\n",
            "batch_normalization_2 (Batch (None, 24, 24, 23)        92        \n",
            "_________________________________________________________________\n",
            "max_pooling2d_1 (MaxPooling2 (None, 12, 12, 23)        0         \n",
            "_________________________________________________________________\n",
            "conv2d_3 (Conv2D)            (None, 12, 12, 18)        432       \n",
            "_________________________________________________________________\n",
            "batch_normalization_3 (Batch (None, 12, 12, 18)        72        \n",
            "_________________________________________________________________\n",
            "conv2d_4 (Conv2D)            (None, 10, 10, 23)        3749      \n",
            "_________________________________________________________________\n",
            "batch_normalization_4 (Batch (None, 10, 10, 23)        92        \n",
            "_________________________________________________________________\n",
            "max_pooling2d_2 (MaxPooling2 (None, 5, 5, 23)          0         \n",
            "_________________________________________________________________\n",
            "conv2d_5 (Conv2D)            (None, 5, 5, 18)          432       \n",
            "_________________________________________________________________\n",
            "batch_normalization_5 (Batch (None, 5, 5, 18)          72        \n",
            "_________________________________________________________________\n",
            "conv2d_6 (Conv2D)            (None, 3, 3, 23)          3749      \n",
            "_________________________________________________________________\n",
            "batch_normalization_6 (Batch (None, 3, 3, 23)          92        \n",
            "_________________________________________________________________\n",
            "conv2d_7 (Conv2D)            (None, 1, 1, 10)          2080      \n",
            "_________________________________________________________________\n",
            "flatten_1 (Flatten)          (None, 10)                0         \n",
            "_________________________________________________________________\n",
            "activation_1 (Activation)    (None, 10)                0         \n",
            "=================================================================\n",
            "Total params: 14,863\n",
            "Trainable params: 14,617\n",
            "Non-trainable params: 246\n",
            "_________________________________________________________________\n"
          ],
          "name": "stdout"
        }
      ]
    },
    {
      "cell_type": "code",
      "metadata": {
        "id": "Zp6SuGrL9M3h",
        "colab_type": "code",
        "colab": {}
      },
      "source": [
        "model.compile(loss='categorical_crossentropy',\n",
        "             optimizer='adam',\n",
        "             metrics=['accuracy'])"
      ],
      "execution_count": 0,
      "outputs": []
    },
    {
      "cell_type": "code",
      "metadata": {
        "id": "sjBlNJzBhC8s",
        "colab_type": "code",
        "colab": {
          "base_uri": "https://localhost:8080/",
          "height": 462
        },
        "outputId": "cf9aa154-bf20-4c3b-b92f-e584872aa5a6"
      },
      "source": [
        "## Trying only batch norm\n",
        "model.fit(X_train, Y_train, batch_size=32, \n",
        "          epochs=10, verbose=1, \n",
        "          validation_data=(X_test, Y_test))"
      ],
      "execution_count": 13,
      "outputs": [
        {
          "output_type": "stream",
          "text": [
            "WARNING:tensorflow:From /usr/local/lib/python3.6/dist-packages/tensorflow/python/ops/math_ops.py:3066: to_int32 (from tensorflow.python.ops.math_ops) is deprecated and will be removed in a future version.\n",
            "Instructions for updating:\n",
            "Use tf.cast instead.\n",
            "Train on 60000 samples, validate on 10000 samples\n",
            "Epoch 1/10\n",
            "60000/60000 [==============================] - 32s 536us/step - loss: 0.1436 - acc: 0.9564 - val_loss: 0.0443 - val_acc: 0.9865\n",
            "Epoch 2/10\n",
            "60000/60000 [==============================] - 31s 511us/step - loss: 0.0450 - acc: 0.9858 - val_loss: 0.0468 - val_acc: 0.9841\n",
            "Epoch 3/10\n",
            "60000/60000 [==============================] - 31s 509us/step - loss: 0.0333 - acc: 0.9897 - val_loss: 0.0397 - val_acc: 0.9872\n",
            "Epoch 4/10\n",
            "60000/60000 [==============================] - 31s 510us/step - loss: 0.0283 - acc: 0.9908 - val_loss: 0.0381 - val_acc: 0.9880\n",
            "Epoch 5/10\n",
            "60000/60000 [==============================] - 31s 509us/step - loss: 0.0234 - acc: 0.9926 - val_loss: 0.0264 - val_acc: 0.9908\n",
            "Epoch 6/10\n",
            "60000/60000 [==============================] - 31s 509us/step - loss: 0.0201 - acc: 0.9933 - val_loss: 0.0363 - val_acc: 0.9886\n",
            "Epoch 7/10\n",
            "60000/60000 [==============================] - 31s 510us/step - loss: 0.0185 - acc: 0.9939 - val_loss: 0.0271 - val_acc: 0.9916\n",
            "Epoch 8/10\n",
            "60000/60000 [==============================] - 31s 510us/step - loss: 0.0168 - acc: 0.9944 - val_loss: 0.0253 - val_acc: 0.9921\n",
            "Epoch 9/10\n",
            "60000/60000 [==============================] - 31s 509us/step - loss: 0.0135 - acc: 0.9953 - val_loss: 0.0300 - val_acc: 0.9919\n",
            "Epoch 10/10\n",
            "60000/60000 [==============================] - 31s 511us/step - loss: 0.0124 - acc: 0.9959 - val_loss: 0.0369 - val_acc: 0.9889\n"
          ],
          "name": "stdout"
        },
        {
          "output_type": "execute_result",
          "data": {
            "text/plain": [
              "<keras.callbacks.History at 0x7f954466a5f8>"
            ]
          },
          "metadata": {
            "tags": []
          },
          "execution_count": 13
        }
      ]
    },
    {
      "cell_type": "code",
      "metadata": {
        "id": "XyfB_SDCfJtk",
        "colab_type": "code",
        "colab": {
          "base_uri": "https://localhost:8080/",
          "height": 462
        },
        "outputId": "7f33fb25-3e52-4343-c939-6a5fd991a8d2"
      },
      "source": [
        "## Trying dropout of 0.25\n",
        "model.fit(X_train, Y_train, batch_size=32, \n",
        "          epochs=10, verbose=1, \n",
        "          validation_data=(X_test, Y_test))"
      ],
      "execution_count": 13,
      "outputs": [
        {
          "output_type": "stream",
          "text": [
            "WARNING:tensorflow:From /usr/local/lib/python3.6/dist-packages/tensorflow/python/ops/math_ops.py:3066: to_int32 (from tensorflow.python.ops.math_ops) is deprecated and will be removed in a future version.\n",
            "Instructions for updating:\n",
            "Use tf.cast instead.\n",
            "Train on 60000 samples, validate on 10000 samples\n",
            "Epoch 1/10\n",
            "60000/60000 [==============================] - 35s 580us/step - loss: 0.2798 - acc: 0.9121 - val_loss: 0.0537 - val_acc: 0.9824\n",
            "Epoch 2/10\n",
            "60000/60000 [==============================] - 33s 552us/step - loss: 0.0940 - acc: 0.9707 - val_loss: 0.0353 - val_acc: 0.9887\n",
            "Epoch 3/10\n",
            "60000/60000 [==============================] - 33s 553us/step - loss: 0.0741 - acc: 0.9770 - val_loss: 0.0336 - val_acc: 0.9897\n",
            "Epoch 4/10\n",
            "60000/60000 [==============================] - 33s 552us/step - loss: 0.0657 - acc: 0.9794 - val_loss: 0.0310 - val_acc: 0.9886\n",
            "Epoch 5/10\n",
            "60000/60000 [==============================] - 33s 553us/step - loss: 0.0610 - acc: 0.9806 - val_loss: 0.0270 - val_acc: 0.9914\n",
            "Epoch 6/10\n",
            "60000/60000 [==============================] - 33s 553us/step - loss: 0.0560 - acc: 0.9818 - val_loss: 0.0251 - val_acc: 0.9916\n",
            "Epoch 7/10\n",
            "60000/60000 [==============================] - 33s 552us/step - loss: 0.0524 - acc: 0.9838 - val_loss: 0.0270 - val_acc: 0.9906\n",
            "Epoch 8/10\n",
            "60000/60000 [==============================] - 33s 554us/step - loss: 0.0500 - acc: 0.9838 - val_loss: 0.0253 - val_acc: 0.9915\n",
            "Epoch 9/10\n",
            "60000/60000 [==============================] - 33s 550us/step - loss: 0.0467 - acc: 0.9850 - val_loss: 0.0248 - val_acc: 0.9922\n",
            "Epoch 10/10\n",
            "60000/60000 [==============================] - 33s 551us/step - loss: 0.0487 - acc: 0.9847 - val_loss: 0.0246 - val_acc: 0.9918\n"
          ],
          "name": "stdout"
        },
        {
          "output_type": "execute_result",
          "data": {
            "text/plain": [
              "<keras.callbacks.History at 0x7f1768ff02e8>"
            ]
          },
          "metadata": {
            "tags": []
          },
          "execution_count": 13
        }
      ]
    },
    {
      "cell_type": "code",
      "metadata": {
        "id": "RZGPwLN_br-5",
        "colab_type": "code",
        "colab": {
          "base_uri": "https://localhost:8080/",
          "height": 462
        },
        "outputId": "8b00ef10-de7d-4808-eddc-d02799fc1ed2"
      },
      "source": [
        "## Trying dropout of 0.15\n",
        "model.fit(X_train, Y_train, batch_size=32, \n",
        "          epochs=10, verbose=1, \n",
        "          validation_data=(X_test, Y_test))"
      ],
      "execution_count": 13,
      "outputs": [
        {
          "output_type": "stream",
          "text": [
            "WARNING:tensorflow:From /usr/local/lib/python3.6/dist-packages/tensorflow/python/ops/math_ops.py:3066: to_int32 (from tensorflow.python.ops.math_ops) is deprecated and will be removed in a future version.\n",
            "Instructions for updating:\n",
            "Use tf.cast instead.\n",
            "Train on 60000 samples, validate on 10000 samples\n",
            "Epoch 1/10\n",
            "60000/60000 [==============================] - 35s 592us/step - loss: 0.2295 - acc: 0.9288 - val_loss: 0.0473 - val_acc: 0.9843\n",
            "Epoch 2/10\n",
            "60000/60000 [==============================] - 34s 559us/step - loss: 0.0722 - acc: 0.9779 - val_loss: 0.0434 - val_acc: 0.9863\n",
            "Epoch 3/10\n",
            "60000/60000 [==============================] - 34s 559us/step - loss: 0.0586 - acc: 0.9818 - val_loss: 0.0355 - val_acc: 0.9883\n",
            "Epoch 4/10\n",
            "60000/60000 [==============================] - 34s 560us/step - loss: 0.0505 - acc: 0.9839 - val_loss: 0.0311 - val_acc: 0.9900\n",
            "Epoch 5/10\n",
            "60000/60000 [==============================] - 33s 558us/step - loss: 0.0443 - acc: 0.9855 - val_loss: 0.0294 - val_acc: 0.9903\n",
            "Epoch 6/10\n",
            "60000/60000 [==============================] - 33s 558us/step - loss: 0.0408 - acc: 0.9868 - val_loss: 0.0285 - val_acc: 0.9906\n",
            "Epoch 7/10\n",
            "60000/60000 [==============================] - 33s 558us/step - loss: 0.0377 - acc: 0.9878 - val_loss: 0.0244 - val_acc: 0.9931\n",
            "Epoch 8/10\n",
            "60000/60000 [==============================] - 34s 559us/step - loss: 0.0365 - acc: 0.9880 - val_loss: 0.0245 - val_acc: 0.9915\n",
            "Epoch 9/10\n",
            "60000/60000 [==============================] - 33s 555us/step - loss: 0.0325 - acc: 0.9898 - val_loss: 0.0241 - val_acc: 0.9930\n",
            "Epoch 10/10\n",
            "60000/60000 [==============================] - 33s 557us/step - loss: 0.0308 - acc: 0.9900 - val_loss: 0.0214 - val_acc: 0.9925\n"
          ],
          "name": "stdout"
        },
        {
          "output_type": "execute_result",
          "data": {
            "text/plain": [
              "<keras.callbacks.History at 0x7f55acea56a0>"
            ]
          },
          "metadata": {
            "tags": []
          },
          "execution_count": 13
        }
      ]
    },
    {
      "cell_type": "code",
      "metadata": {
        "id": "2kNKJ86OaDOb",
        "colab_type": "code",
        "colab": {
          "base_uri": "https://localhost:8080/",
          "height": 462
        },
        "outputId": "4e16737c-b514-4732-cba7-39d58e9200c8"
      },
      "source": [
        "## Trying dropout of 0.10\n",
        "model.fit(X_train, Y_train, batch_size=32, \n",
        "          epochs=10, verbose=1, \n",
        "          validation_data=(X_test, Y_test))"
      ],
      "execution_count": 13,
      "outputs": [
        {
          "output_type": "stream",
          "text": [
            "WARNING:tensorflow:From /usr/local/lib/python3.6/dist-packages/tensorflow/python/ops/math_ops.py:3066: to_int32 (from tensorflow.python.ops.math_ops) is deprecated and will be removed in a future version.\n",
            "Instructions for updating:\n",
            "Use tf.cast instead.\n",
            "Train on 60000 samples, validate on 10000 samples\n",
            "Epoch 1/10\n",
            "60000/60000 [==============================] - 34s 567us/step - loss: 0.2139 - acc: 0.9340 - val_loss: 0.0591 - val_acc: 0.9809\n",
            "Epoch 2/10\n",
            "60000/60000 [==============================] - 32s 535us/step - loss: 0.0660 - acc: 0.9794 - val_loss: 0.0385 - val_acc: 0.9876\n",
            "Epoch 3/10\n",
            "60000/60000 [==============================] - 32s 533us/step - loss: 0.0526 - acc: 0.9832 - val_loss: 0.0322 - val_acc: 0.9883\n",
            "Epoch 4/10\n",
            "60000/60000 [==============================] - 32s 532us/step - loss: 0.0442 - acc: 0.9858 - val_loss: 0.0367 - val_acc: 0.9885\n",
            "Epoch 5/10\n",
            "60000/60000 [==============================] - 32s 533us/step - loss: 0.0381 - acc: 0.9878 - val_loss: 0.0330 - val_acc: 0.9903\n",
            "Epoch 6/10\n",
            "60000/60000 [==============================] - 32s 533us/step - loss: 0.0362 - acc: 0.9883 - val_loss: 0.0253 - val_acc: 0.9921\n",
            "Epoch 7/10\n",
            "60000/60000 [==============================] - 32s 532us/step - loss: 0.0318 - acc: 0.9897 - val_loss: 0.0335 - val_acc: 0.9908\n",
            "Epoch 8/10\n",
            "60000/60000 [==============================] - 32s 531us/step - loss: 0.0293 - acc: 0.9910 - val_loss: 0.0268 - val_acc: 0.9915\n",
            "Epoch 9/10\n",
            "60000/60000 [==============================] - 32s 531us/step - loss: 0.0281 - acc: 0.9907 - val_loss: 0.0284 - val_acc: 0.9904\n",
            "Epoch 10/10\n",
            "60000/60000 [==============================] - 32s 530us/step - loss: 0.0251 - acc: 0.9919 - val_loss: 0.0225 - val_acc: 0.9938\n"
          ],
          "name": "stdout"
        },
        {
          "output_type": "execute_result",
          "data": {
            "text/plain": [
              "<keras.callbacks.History at 0x7f2a27ab9550>"
            ]
          },
          "metadata": {
            "tags": []
          },
          "execution_count": 13
        }
      ]
    },
    {
      "cell_type": "code",
      "metadata": {
        "id": "k6qVapN2YsEf",
        "colab_type": "code",
        "colab": {
          "base_uri": "https://localhost:8080/",
          "height": 462
        },
        "outputId": "3ce330a4-ac82-4e1d-dc27-44e4603a8eed"
      },
      "source": [
        "## Trying dropout of 0.05\n",
        "model.fit(X_train, Y_train, batch_size=32, \n",
        "          epochs=10, verbose=1, \n",
        "          validation_data=(X_test, Y_test))"
      ],
      "execution_count": 13,
      "outputs": [
        {
          "output_type": "stream",
          "text": [
            "WARNING:tensorflow:From /usr/local/lib/python3.6/dist-packages/tensorflow/python/ops/math_ops.py:3066: to_int32 (from tensorflow.python.ops.math_ops) is deprecated and will be removed in a future version.\n",
            "Instructions for updating:\n",
            "Use tf.cast instead.\n",
            "Train on 60000 samples, validate on 10000 samples\n",
            "Epoch 1/10\n",
            "60000/60000 [==============================] - 35s 586us/step - loss: 0.1625 - acc: 0.9503 - val_loss: 0.0534 - val_acc: 0.9829\n",
            "Epoch 2/10\n",
            "60000/60000 [==============================] - 33s 557us/step - loss: 0.0551 - acc: 0.9833 - val_loss: 0.0390 - val_acc: 0.9869\n",
            "Epoch 3/10\n",
            "60000/60000 [==============================] - 33s 557us/step - loss: 0.0422 - acc: 0.9862 - val_loss: 0.0322 - val_acc: 0.9886\n",
            "Epoch 4/10\n",
            "60000/60000 [==============================] - 34s 560us/step - loss: 0.0356 - acc: 0.9886 - val_loss: 0.0296 - val_acc: 0.9902\n",
            "Epoch 5/10\n",
            "60000/60000 [==============================] - 33s 557us/step - loss: 0.0323 - acc: 0.9898 - val_loss: 0.0293 - val_acc: 0.9903\n",
            "Epoch 6/10\n",
            "60000/60000 [==============================] - 33s 557us/step - loss: 0.0282 - acc: 0.9907 - val_loss: 0.0265 - val_acc: 0.9915\n",
            "Epoch 7/10\n",
            "60000/60000 [==============================] - 33s 556us/step - loss: 0.0260 - acc: 0.9916 - val_loss: 0.0244 - val_acc: 0.9921\n",
            "Epoch 8/10\n",
            "60000/60000 [==============================] - 33s 557us/step - loss: 0.0237 - acc: 0.9924 - val_loss: 0.0290 - val_acc: 0.9919\n",
            "Epoch 9/10\n",
            "60000/60000 [==============================] - 33s 557us/step - loss: 0.0218 - acc: 0.9927 - val_loss: 0.0241 - val_acc: 0.9925\n",
            "Epoch 10/10\n",
            "60000/60000 [==============================] - 33s 556us/step - loss: 0.0201 - acc: 0.9935 - val_loss: 0.0255 - val_acc: 0.9929\n"
          ],
          "name": "stdout"
        },
        {
          "output_type": "execute_result",
          "data": {
            "text/plain": [
              "<keras.callbacks.History at 0x7f8d14e713c8>"
            ]
          },
          "metadata": {
            "tags": []
          },
          "execution_count": 13
        }
      ]
    },
    {
      "cell_type": "code",
      "metadata": {
        "id": "AtsH-lLk-eLb",
        "colab_type": "code",
        "colab": {}
      },
      "source": [
        "score = model.evaluate(X_test, Y_test, verbose=0)"
      ],
      "execution_count": 0,
      "outputs": []
    },
    {
      "cell_type": "code",
      "metadata": {
        "id": "mkX8JMv79q9r",
        "colab_type": "code",
        "outputId": "4137c0fb-5296-4ec8-c17e-4ce91c6f351e",
        "colab": {
          "base_uri": "https://localhost:8080/",
          "height": 34
        }
      },
      "source": [
        "print(score)"
      ],
      "execution_count": 15,
      "outputs": [
        {
          "output_type": "stream",
          "text": [
            "[0.041294539852170055, 0.9888]\n"
          ],
          "name": "stdout"
        }
      ]
    },
    {
      "cell_type": "code",
      "metadata": {
        "id": "OCWoJkwE9suh",
        "colab_type": "code",
        "colab": {}
      },
      "source": [
        "y_pred = model.predict(X_test)"
      ],
      "execution_count": 0,
      "outputs": []
    },
    {
      "cell_type": "code",
      "metadata": {
        "id": "Ym7iCFBm9uBs",
        "colab_type": "code",
        "outputId": "6085c2d9-9c41-4dea-acb4-0643ba2702aa",
        "colab": {
          "base_uri": "https://localhost:8080/",
          "height": 493
        }
      },
      "source": [
        "print(y_pred[:9])\n",
        "print(y_test[:9])"
      ],
      "execution_count": 17,
      "outputs": [
        {
          "output_type": "stream",
          "text": [
            "[[1.03631275e-12 1.68673922e-10 4.54757521e-09 7.91817723e-10\n",
            "  6.94930441e-13 2.50947842e-14 1.04101772e-16 1.00000000e+00\n",
            "  1.16945928e-12 7.03261283e-10]\n",
            " [1.08879968e-10 1.64364593e-07 9.99999881e-01 5.88292219e-13\n",
            "  1.36801690e-11 6.70446430e-17 2.76262568e-08 1.91677999e-14\n",
            "  1.93287036e-11 3.68783094e-11]\n",
            " [1.53148875e-07 9.99993443e-01 5.17486114e-07 1.21324746e-07\n",
            "  4.40114292e-07 3.57270800e-08 3.53600831e-06 1.74679053e-06\n",
            "  6.09622361e-08 7.23317797e-08]\n",
            " [9.99992609e-01 1.13017243e-11 5.09248110e-09 4.88630143e-11\n",
            "  2.97466857e-10 2.02038278e-12 7.36847323e-06 3.09360827e-14\n",
            "  3.38181733e-10 7.07143935e-12]\n",
            " [6.39194914e-13 8.49370867e-13 3.01831802e-13 2.91313371e-12\n",
            "  9.99992967e-01 8.09212246e-12 1.28290401e-09 3.26753243e-11\n",
            "  7.65609590e-11 7.07966910e-06]\n",
            " [5.07178370e-08 9.99997497e-01 5.86518780e-08 5.33345812e-10\n",
            "  5.66559436e-07 1.50948487e-09 8.49744737e-08 1.63576624e-06\n",
            "  1.91263709e-07 2.77695715e-08]\n",
            " [4.57070498e-15 4.41082476e-10 4.45345193e-12 1.32606018e-11\n",
            "  9.99998927e-01 9.02840372e-11 4.26398771e-13 2.30411867e-08\n",
            "  2.88434705e-07 8.25801465e-07]\n",
            " [1.08883475e-11 9.33609634e-09 4.97227504e-09 8.96566999e-05\n",
            "  1.17175005e-05 1.08096447e-05 9.03381203e-10 1.20963705e-07\n",
            "  2.86712130e-08 9.99887705e-01]\n",
            " [5.26716306e-08 2.77724399e-10 2.29917543e-08 1.33372558e-11\n",
            "  7.01299818e-09 9.97305512e-01 2.69407197e-03 1.51652616e-12\n",
            "  2.33812443e-07 2.79428547e-09]]\n",
            "[7 2 1 0 4 1 4 9 5]\n"
          ],
          "name": "stdout"
        }
      ]
    },
    {
      "cell_type": "code",
      "metadata": {
        "id": "9tvptcn8dxvp",
        "colab_type": "code",
        "colab": {}
      },
      "source": [
        ""
      ],
      "execution_count": 0,
      "outputs": []
    }
  ]
}