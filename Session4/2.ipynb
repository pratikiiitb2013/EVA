{
  "nbformat": 4,
  "nbformat_minor": 0,
  "metadata": {
    "colab": {
      "name": "2.ipynb",
      "version": "0.3.2",
      "provenance": [],
      "collapsed_sections": [],
      "include_colab_link": true
    },
    "kernelspec": {
      "name": "python3",
      "display_name": "Python 3"
    },
    "accelerator": "GPU"
  },
  "cells": [
    {
      "cell_type": "markdown",
      "metadata": {
        "id": "view-in-github",
        "colab_type": "text"
      },
      "source": [
        "<a href=\"https://colab.research.google.com/github/pratikiiitb2013/EVA/blob/master/Session4/2.ipynb\" target=\"_parent\"><img src=\"https://colab.research.google.com/assets/colab-badge.svg\" alt=\"Open In Colab\"/></a>"
      ]
    },
    {
      "cell_type": "markdown",
      "metadata": {
        "id": "aNyZv-Ec52ot",
        "colab_type": "text"
      },
      "source": [
        "# **Import Libraries and modules**"
      ]
    },
    {
      "cell_type": "markdown",
      "metadata": {
        "id": "jIxVsbA-L8Rq",
        "colab_type": "text"
      },
      "source": [
        "### This code is an improvement over last network - \n",
        "* Used 1X1 to reduce # channels\n",
        "* Used max pooling after few conv layers.\n",
        "* Used Validation at every epoch.\n",
        "* Used conv layers blocks of incresing no. of kernels. Tried various below iterations, can be seen commented in code cell  - \n",
        "  * (32 - 64 - 128)X2 blocks -> 195K params, Vtrain - 0.0285 , Vacc - 0.9929\n",
        "  * (8 - 16 - 32)X2  blocks -> 17K params, Vtrain -0.9940, Vacc - 0.9882\n",
        "  * (4 - 8 - 16)X2 blocks -> 8K params, Vtrain -0.9914, Vacc - 0.9879\n",
        "  * (10 - 16 - 22)x2 block -> 14.7K params, Vtrain -0.9937, Vacc - 0.9897\n",
        "  * (10 - 15)X2 block -> 13K params, Vtrain -0.9927, Vacc - 0.9889\n",
        "  * (16 - 24)X3 block -> 13.5K params, Vtrain -0.9921, Vacc - 0.9903\n",
        "  * (18 - 24)X3 block -> 15K params, Vtrain -0.9939, Vacc - 0.9913\n",
        "  * (18 - 23)X3 block -> 14.3K params, Vtrain -0.99315, Vacc - 0.9909\n",
        "  \n",
        "### Learnings - \n",
        "* Increasing kernels drastically may not result in best results or increase Vacc too much\n",
        "* Large no of kernels may be unused\n",
        "* Similar/better results can be found out with less #kernels\n",
        "* Architecture should be correct and well thought of. We should use blocks of conv layers with increasing #kernels\n",
        "* max pool after only few conv layers\n",
        "\n",
        "### Conclusion\n",
        "* Fixed the architecture - use 2 or 3 blocks of conv layers, wth increasing #kernels.\n",
        "* Choose combination of #kernels in layers according to #parameters required.\n",
        "* We can see that we have reached 99.1+ Vacc, so now that means our architecture seems to be alright, now further improvement can be done by other optimizations."
      ]
    },
    {
      "cell_type": "code",
      "metadata": {
        "id": "3m3w1Cw49Zkt",
        "colab_type": "code",
        "outputId": "4352a4ff-09c9-4816-8647-f57f3794a3c1",
        "colab": {
          "base_uri": "https://localhost:8080/",
          "height": 34
        }
      },
      "source": [
        "# https://keras.io/\n",
        "!pip install -q keras\n",
        "import keras"
      ],
      "execution_count": 0,
      "outputs": [
        {
          "output_type": "stream",
          "text": [
            "Using TensorFlow backend.\n"
          ],
          "name": "stderr"
        }
      ]
    },
    {
      "cell_type": "code",
      "metadata": {
        "id": "YWlPQ3v_ATrk",
        "colab_type": "code",
        "colab": {}
      },
      "source": [
        ""
      ],
      "execution_count": 0,
      "outputs": []
    },
    {
      "cell_type": "code",
      "metadata": {
        "id": "Eso6UHE080D4",
        "colab_type": "code",
        "colab": {}
      },
      "source": [
        "import numpy as np\n",
        "\n",
        "from keras.models import Sequential\n",
        "from keras.layers import Dense, Dropout, Activation, Flatten, Add\n",
        "from keras.layers import Convolution2D, MaxPooling2D\n",
        "from keras.utils import np_utils\n",
        "\n",
        "from keras.datasets import mnist"
      ],
      "execution_count": 0,
      "outputs": []
    },
    {
      "cell_type": "markdown",
      "metadata": {
        "id": "zByEi95J86RD",
        "colab_type": "text"
      },
      "source": [
        "### Load pre-shuffled MNIST data into train and test sets"
      ]
    },
    {
      "cell_type": "code",
      "metadata": {
        "id": "7eRM0QWN83PV",
        "colab_type": "code",
        "colab": {}
      },
      "source": [
        "(X_train, y_train), (X_test, y_test) = mnist.load_data()"
      ],
      "execution_count": 0,
      "outputs": []
    },
    {
      "cell_type": "code",
      "metadata": {
        "id": "4a4Be72j8-ZC",
        "colab_type": "code",
        "outputId": "46607174-1152-4576-bf19-06884941c5c7",
        "colab": {
          "base_uri": "https://localhost:8080/",
          "height": 303
        }
      },
      "source": [
        "print (X_train.shape)\n",
        "from matplotlib import pyplot as plt\n",
        "%matplotlib inline\n",
        "plt.imshow(X_train[0])"
      ],
      "execution_count": 0,
      "outputs": [
        {
          "output_type": "stream",
          "text": [
            "(60000, 28, 28)\n"
          ],
          "name": "stdout"
        },
        {
          "output_type": "execute_result",
          "data": {
            "text/plain": [
              "<matplotlib.image.AxesImage at 0x7f94f9da9358>"
            ]
          },
          "metadata": {
            "tags": []
          },
          "execution_count": 4
        },
        {
          "output_type": "display_data",
          "data": {
            "image/png": "[encoded data removed]",
            "text/plain": [
              "<Figure size 432x288 with 1 Axes>"
            ]
          },
          "metadata": {
            "tags": []
          }
        }
      ]
    },
    {
      "cell_type": "code",
      "metadata": {
        "id": "dkmprriw9AnZ",
        "colab_type": "code",
        "colab": {}
      },
      "source": [
        "X_train = X_train.reshape(X_train.shape[0], 28, 28,1)\n",
        "X_test = X_test.reshape(X_test.shape[0], 28, 28,1)"
      ],
      "execution_count": 0,
      "outputs": []
    },
    {
      "cell_type": "code",
      "metadata": {
        "id": "X2m4YS4E9CRh",
        "colab_type": "code",
        "colab": {}
      },
      "source": [
        "X_train = X_train.astype('float32')\n",
        "X_test = X_test.astype('float32')\n",
        "X_train /= 255\n",
        "X_test /= 255"
      ],
      "execution_count": 0,
      "outputs": []
    },
    {
      "cell_type": "code",
      "metadata": {
        "id": "0Mn0vAYD9DvB",
        "colab_type": "code",
        "outputId": "3d45e5e2-8e34-40fd-a439-9690e74596df",
        "colab": {
          "base_uri": "https://localhost:8080/",
          "height": 34
        }
      },
      "source": [
        "y_train[:10]"
      ],
      "execution_count": 0,
      "outputs": [
        {
          "output_type": "execute_result",
          "data": {
            "text/plain": [
              "array([5, 0, 4, 1, 9, 2, 1, 3, 1, 4], dtype=uint8)"
            ]
          },
          "metadata": {
            "tags": []
          },
          "execution_count": 7
        }
      ]
    },
    {
      "cell_type": "code",
      "metadata": {
        "id": "ZG8JiXR39FHC",
        "colab_type": "code",
        "colab": {}
      },
      "source": [
        "# Convert 1-dimensional class arrays to 10-dimensional class matrices\n",
        "Y_train = np_utils.to_categorical(y_train, 10)\n",
        "Y_test = np_utils.to_categorical(y_test, 10)"
      ],
      "execution_count": 0,
      "outputs": []
    },
    {
      "cell_type": "code",
      "metadata": {
        "id": "fYlFRvKS9HMB",
        "colab_type": "code",
        "outputId": "7671f608-7e61-4438-af66-0b0aa768b8a2",
        "colab": {
          "base_uri": "https://localhost:8080/",
          "height": 187
        }
      },
      "source": [
        "Y_train[:10]\n"
      ],
      "execution_count": 0,
      "outputs": [
        {
          "output_type": "execute_result",
          "data": {
            "text/plain": [
              "array([[0., 0., 0., 0., 0., 1., 0., 0., 0., 0.],\n",
              "       [1., 0., 0., 0., 0., 0., 0., 0., 0., 0.],\n",
              "       [0., 0., 0., 0., 1., 0., 0., 0., 0., 0.],\n",
              "       [0., 1., 0., 0., 0., 0., 0., 0., 0., 0.],\n",
              "       [0., 0., 0., 0., 0., 0., 0., 0., 0., 1.],\n",
              "       [0., 0., 1., 0., 0., 0., 0., 0., 0., 0.],\n",
              "       [0., 1., 0., 0., 0., 0., 0., 0., 0., 0.],\n",
              "       [0., 0., 0., 1., 0., 0., 0., 0., 0., 0.],\n",
              "       [0., 1., 0., 0., 0., 0., 0., 0., 0., 0.],\n",
              "       [0., 0., 0., 0., 1., 0., 0., 0., 0., 0.]], dtype=float32)"
            ]
          },
          "metadata": {
            "tags": []
          },
          "execution_count": 9
        }
      ]
    },
    {
      "cell_type": "code",
      "metadata": {
        "id": "osKqT73Q9JJB",
        "colab_type": "code",
        "outputId": "0a6e39d6-6db7-48a3-89f7-c47e1164dddd",
        "colab": {
          "base_uri": "https://localhost:8080/",
          "height": 190
        }
      },
      "source": [
        "from keras.layers import Activation\n",
        "model = Sequential()\n",
        "\n",
        "\n",
        "## (32 - 64 - 128) block -> 195K params, Vtrain - 0.0285 , Vacc - 0.9929\n",
        "# model.add(Convolution2D(32, 3, 3, activation='relu', input_shape=(28,28,1)))\n",
        "# model.add(Convolution2D(64, 3, 3, activation='relu'))\n",
        "# model.add(Convolution2D(128, 3, 3, activation='relu'))\n",
        "# model.add(MaxPooling2D(pool_size=(2, 2)))\n",
        "# model.add(Convolution2D(32, 1, 1, activation='relu'))\n",
        "# model.add(Convolution2D(64, 3, 3, activation='relu'))\n",
        "# model.add(Convolution2D(128, 3, 3, activation='relu'))\n",
        "# model.add(Convolution2D(10, 1, activation='relu'))\n",
        "# model.add(Convolution2D(10, 7))\n",
        "# model.add(Flatten())\n",
        "# model.add(Activation('softmax'))\n",
        "\n",
        "## (8 - 16 - 32) block -> 17K params, Vtrain -0.9940, Vacc - 0.9882\n",
        "# model.add(Convolution2D(8, 3, 3, activation='relu', input_shape=(28,28,1)))\n",
        "# model.add(Convolution2D(16, 3, 3, activation='relu'))\n",
        "# model.add(Convolution2D(32, 3, 3, activation='relu'))\n",
        "# model.add(MaxPooling2D(pool_size=(2, 2)))\n",
        "# model.add(Convolution2D(8, 1, 1, activation='relu'))\n",
        "# model.add(Convolution2D(16, 3, 3, activation='relu'))\n",
        "# model.add(Convolution2D(32, 3, 3, activation='relu'))\n",
        "# model.add(Convolution2D(10, 1, activation='relu'))\n",
        "# model.add(Convolution2D(10, 7))\n",
        "# model.add(Flatten())\n",
        "# model.add(Activation('softmax'))\n",
        "\n",
        "## (4 - 8 - 16) block -> 8K params, Vtrain -0.9914, Vacc - 0.9879\n",
        "# model.add(Convolution2D(4, 3, 3, activation='relu', input_shape=(28,28,1)))\n",
        "# model.add(Convolution2D(8, 3, 3, activation='relu'))\n",
        "# model.add(Convolution2D(16, 3, 3, activation='relu'))\n",
        "# model.add(MaxPooling2D(pool_size=(2, 2)))\n",
        "# model.add(Convolution2D(4, 1, 1, activation='relu'))\n",
        "# model.add(Convolution2D(8, 3, 3, activation='relu'))\n",
        "# model.add(Convolution2D(16, 3, 3, activation='relu'))\n",
        "# model.add(Convolution2D(10, 1, activation='relu'))\n",
        "# model.add(Convolution2D(10, 7))\n",
        "# model.add(Flatten())\n",
        "# model.add(Activation('softmax'))\n",
        "\n",
        "## (10 - 16 - 22) block -> 14.7K params, Vtrain -0.9937, Vacc - 0.9897\n",
        "# model.add(Convolution2D(10, 3, 3, activation='relu', input_shape=(28,28,1)))\n",
        "# model.add(Convolution2D(16, 3, 3, activation='relu'))\n",
        "# model.add(Convolution2D(22, 3, 3, activation='relu'))\n",
        "# model.add(MaxPooling2D(pool_size=(2, 2)))\n",
        "# model.add(Convolution2D(10, 1, 1, activation='relu'))\n",
        "# model.add(Convolution2D(16, 3, 3, activation='relu'))\n",
        "# model.add(Convolution2D(22, 3, 3, activation='relu'))\n",
        "# model.add(Convolution2D(10, 1, activation='relu'))\n",
        "# model.add(Convolution2D(10, 7))\n",
        "# model.add(Flatten())\n",
        "# model.add(Activation('softmax'))\n",
        "\n",
        "## (10 - 15) block -> 13K params, Vtrain -0.9927, Vacc - 0.9889\n",
        "# model.add(Convolution2D(10, 3, 3, activation='relu', input_shape=(28,28,1)))\n",
        "# model.add(Convolution2D(15, 3, 3, activation='relu'))\n",
        "# model.add(MaxPooling2D(pool_size=(2, 2)))\n",
        "# model.add(Convolution2D(10, 1, 1, activation='relu'))\n",
        "# model.add(Convolution2D(15, 3, 3, activation='relu'))\n",
        "# model.add(Convolution2D(10, 1, activation='relu'))\n",
        "# model.add(Convolution2D(10, 10))\n",
        "# model.add(Flatten())\n",
        "# model.add(Activation('softmax'))\n",
        "\n",
        "## (16 - 24)X3 block -> 13.5K params, Vtrain -0.9921, Vacc - 0.9903\n",
        "## (18 - 24)X3 block -> 15K params, Vtrain -0.9939, Vacc - 0.9913\n",
        "## (18 - 23)X3 block -> 14.3K params, Vtrain -0.993, Vacc - 0.9909\n",
        "model.add(Convolution2D(18, 3, 3, activation='relu', input_shape=(28,28,1)))\n",
        "model.add(Convolution2D(23, 3, 3, activation='relu'))\n",
        "model.add(MaxPooling2D(pool_size=(2, 2)))\n",
        "model.add(Convolution2D(18, 1, 1, activation='relu'))\n",
        "model.add(Convolution2D(23, 3, 3, activation='relu'))\n",
        "model.add(MaxPooling2D(pool_size=(2, 2)))\n",
        "model.add(Convolution2D(18, 1, 1, activation='relu'))\n",
        "model.add(Convolution2D(23, 3, 3, activation='relu'))\n",
        "model.add(Convolution2D(10, 3))\n",
        "model.add(Flatten())\n",
        "model.add(Activation('softmax'))\n",
        "\n",
        "\n",
        "## increasing kernels drastically may not result in best results\n",
        "## arge no of kernels may be unused\n",
        "## similar/better esults can be found out with less #kernels\n",
        "## architecture shoiuld be correct and well thought of\n",
        "## max pool after only few conv layers\n",
        "## "
      ],
      "execution_count": 0,
      "outputs": [
        {
          "output_type": "stream",
          "text": [
            "WARNING:tensorflow:From /usr/local/lib/python3.6/dist-packages/tensorflow/python/framework/op_def_library.py:263: colocate_with (from tensorflow.python.framework.ops) is deprecated and will be removed in a future version.\n",
            "Instructions for updating:\n",
            "Colocations handled automatically by placer.\n"
          ],
          "name": "stdout"
        },
        {
          "output_type": "stream",
          "text": [
            "/usr/local/lib/python3.6/dist-packages/ipykernel_launcher.py:71: UserWarning: Update your `Conv2D` call to the Keras 2 API: `Conv2D(18, (3, 3), activation=\"relu\", input_shape=(28, 28, 1...)`\n",
            "/usr/local/lib/python3.6/dist-packages/ipykernel_launcher.py:72: UserWarning: Update your `Conv2D` call to the Keras 2 API: `Conv2D(23, (3, 3), activation=\"relu\")`\n",
            "/usr/local/lib/python3.6/dist-packages/ipykernel_launcher.py:74: UserWarning: Update your `Conv2D` call to the Keras 2 API: `Conv2D(18, (1, 1), activation=\"relu\")`\n",
            "/usr/local/lib/python3.6/dist-packages/ipykernel_launcher.py:75: UserWarning: Update your `Conv2D` call to the Keras 2 API: `Conv2D(23, (3, 3), activation=\"relu\")`\n",
            "/usr/local/lib/python3.6/dist-packages/ipykernel_launcher.py:77: UserWarning: Update your `Conv2D` call to the Keras 2 API: `Conv2D(18, (1, 1), activation=\"relu\")`\n",
            "/usr/local/lib/python3.6/dist-packages/ipykernel_launcher.py:78: UserWarning: Update your `Conv2D` call to the Keras 2 API: `Conv2D(23, (3, 3), activation=\"relu\")`\n"
          ],
          "name": "stderr"
        }
      ]
    },
    {
      "cell_type": "code",
      "metadata": {
        "id": "TzdAYg1k9K7Z",
        "colab_type": "code",
        "outputId": "bd8d1008-98be-4c68-c329-2678d4ab3032",
        "colab": {
          "base_uri": "https://localhost:8080/",
          "height": 510
        }
      },
      "source": [
        "model.summary()"
      ],
      "execution_count": 0,
      "outputs": [
        {
          "output_type": "stream",
          "text": [
            "_________________________________________________________________\n",
            "Layer (type)                 Output Shape              Param #   \n",
            "=================================================================\n",
            "conv2d_1 (Conv2D)            (None, 26, 26, 18)        180       \n",
            "_________________________________________________________________\n",
            "conv2d_2 (Conv2D)            (None, 24, 24, 23)        3749      \n",
            "_________________________________________________________________\n",
            "max_pooling2d_1 (MaxPooling2 (None, 12, 12, 23)        0         \n",
            "_________________________________________________________________\n",
            "conv2d_3 (Conv2D)            (None, 12, 12, 18)        432       \n",
            "_________________________________________________________________\n",
            "conv2d_4 (Conv2D)            (None, 10, 10, 23)        3749      \n",
            "_________________________________________________________________\n",
            "max_pooling2d_2 (MaxPooling2 (None, 5, 5, 23)          0         \n",
            "_________________________________________________________________\n",
            "conv2d_5 (Conv2D)            (None, 5, 5, 18)          432       \n",
            "_________________________________________________________________\n",
            "conv2d_6 (Conv2D)            (None, 3, 3, 23)          3749      \n",
            "_________________________________________________________________\n",
            "conv2d_7 (Conv2D)            (None, 1, 1, 10)          2080      \n",
            "_________________________________________________________________\n",
            "flatten_1 (Flatten)          (None, 10)                0         \n",
            "_________________________________________________________________\n",
            "activation_1 (Activation)    (None, 10)                0         \n",
            "=================================================================\n",
            "Total params: 14,371\n",
            "Trainable params: 14,371\n",
            "Non-trainable params: 0\n",
            "_________________________________________________________________\n"
          ],
          "name": "stdout"
        }
      ]
    },
    {
      "cell_type": "code",
      "metadata": {
        "id": "Zp6SuGrL9M3h",
        "colab_type": "code",
        "colab": {}
      },
      "source": [
        "model.compile(loss='categorical_crossentropy',\n",
        "             optimizer='adam',\n",
        "             metrics=['accuracy'])"
      ],
      "execution_count": 0,
      "outputs": []
    },
    {
      "cell_type": "code",
      "metadata": {
        "id": "4xWoKhPY9Of5",
        "colab_type": "code",
        "outputId": "60729db6-fff1-48a4-9cd3-74d5c35658e0",
        "colab": {
          "base_uri": "https://localhost:8080/",
          "height": 462
        }
      },
      "source": [
        "# model.fit(X_train, Y_train, batch_size=32, nb_epoch=10, verbose=1)\n",
        "\n",
        "model.fit(X_train, Y_train, batch_size=32, \n",
        "          epochs=10, verbose=1, \n",
        "          validation_data=(X_test, Y_test))"
      ],
      "execution_count": 0,
      "outputs": [
        {
          "output_type": "stream",
          "text": [
            "WARNING:tensorflow:From /usr/local/lib/python3.6/dist-packages/tensorflow/python/ops/math_ops.py:3066: to_int32 (from tensorflow.python.ops.math_ops) is deprecated and will be removed in a future version.\n",
            "Instructions for updating:\n",
            "Use tf.cast instead.\n",
            "Train on 60000 samples, validate on 10000 samples\n",
            "Epoch 1/10\n",
            "60000/60000 [==============================] - 12s 205us/step - loss: 0.2039 - acc: 0.9368 - val_loss: 0.0609 - val_acc: 0.9801\n",
            "Epoch 2/10\n",
            "60000/60000 [==============================] - 10s 166us/step - loss: 0.0598 - acc: 0.9810 - val_loss: 0.0490 - val_acc: 0.9859\n",
            "Epoch 3/10\n",
            "60000/60000 [==============================] - 10s 165us/step - loss: 0.0453 - acc: 0.9855 - val_loss: 0.0443 - val_acc: 0.9863\n",
            "Epoch 4/10\n",
            "60000/60000 [==============================] - 10s 165us/step - loss: 0.0372 - acc: 0.9885 - val_loss: 0.0390 - val_acc: 0.9891\n",
            "Epoch 5/10\n",
            "60000/60000 [==============================] - 10s 169us/step - loss: 0.0321 - acc: 0.9901 - val_loss: 0.0411 - val_acc: 0.9883\n",
            "Epoch 6/10\n",
            "60000/60000 [==============================] - 11s 184us/step - loss: 0.0273 - acc: 0.9915 - val_loss: 0.0312 - val_acc: 0.9909\n",
            "Epoch 7/10\n",
            "60000/60000 [==============================] - 10s 166us/step - loss: 0.0261 - acc: 0.9917 - val_loss: 0.0298 - val_acc: 0.9902\n",
            "Epoch 8/10\n",
            "60000/60000 [==============================] - 10s 166us/step - loss: 0.0218 - acc: 0.9924 - val_loss: 0.0304 - val_acc: 0.9905\n",
            "Epoch 9/10\n",
            "60000/60000 [==============================] - 10s 165us/step - loss: 0.0199 - acc: 0.9932 - val_loss: 0.0325 - val_acc: 0.9906\n",
            "Epoch 10/10\n",
            "60000/60000 [==============================] - 10s 165us/step - loss: 0.0175 - acc: 0.9945 - val_loss: 0.0340 - val_acc: 0.9903\n"
          ],
          "name": "stdout"
        },
        {
          "output_type": "execute_result",
          "data": {
            "text/plain": [
              "<keras.callbacks.History at 0x7f95450e92e8>"
            ]
          },
          "metadata": {
            "tags": []
          },
          "execution_count": 13
        }
      ]
    },
    {
      "cell_type": "code",
      "metadata": {
        "id": "AtsH-lLk-eLb",
        "colab_type": "code",
        "colab": {}
      },
      "source": [
        "score = model.evaluate(X_test, Y_test, verbose=0)"
      ],
      "execution_count": 0,
      "outputs": []
    },
    {
      "cell_type": "code",
      "metadata": {
        "id": "mkX8JMv79q9r",
        "colab_type": "code",
        "outputId": "97f98205-f9be-4d17-8340-485126ae560e",
        "colab": {
          "base_uri": "https://localhost:8080/",
          "height": 34
        }
      },
      "source": [
        "print(score)"
      ],
      "execution_count": 0,
      "outputs": [
        {
          "output_type": "stream",
          "text": [
            "[0.034016742640529625, 0.9903]\n"
          ],
          "name": "stdout"
        }
      ]
    },
    {
      "cell_type": "code",
      "metadata": {
        "id": "OCWoJkwE9suh",
        "colab_type": "code",
        "colab": {}
      },
      "source": [
        "y_pred = model.predict(X_test)"
      ],
      "execution_count": 0,
      "outputs": []
    },
    {
      "cell_type": "code",
      "metadata": {
        "id": "Ym7iCFBm9uBs",
        "colab_type": "code",
        "outputId": "90705ea3-acb7-449a-9312-37a2f3cf6ffd",
        "colab": {
          "base_uri": "https://localhost:8080/",
          "height": 340
        }
      },
      "source": [
        "print(y_pred[:9])\n",
        "print(y_test[:9])"
      ],
      "execution_count": 0,
      "outputs": [
        {
          "output_type": "stream",
          "text": [
            "[[9.8629271e-17 9.2643869e-14 5.8689950e-12 1.7898973e-09 1.5571589e-16\n",
            "  2.8694124e-12 3.6285073e-24 1.0000000e+00 7.0690914e-12 1.4232802e-08]\n",
            " [1.4669377e-11 1.7821397e-10 1.0000000e+00 7.6931069e-16 5.9698152e-16\n",
            "  2.4921599e-17 4.5315009e-11 1.3898144e-15 6.6867310e-12 9.2403584e-20]\n",
            " [6.2274308e-10 9.9999332e-01 1.9801525e-06 1.4681441e-09 1.3429482e-06\n",
            "  5.0270779e-07 1.4937706e-07 4.6415760e-08 2.5169547e-06 6.5767068e-08]\n",
            " [9.9994898e-01 5.9671061e-13 3.1817805e-07 1.6940210e-09 1.6423086e-09\n",
            "  7.2509204e-07 3.2649099e-05 5.1259682e-12 1.2430265e-05 4.8944485e-06]\n",
            " [1.1298948e-11 1.3921152e-12 9.2814494e-09 3.4063293e-13 9.9999881e-01\n",
            "  3.9760431e-09 6.3559651e-09 5.7386518e-10 2.5589014e-07 9.0619938e-07]\n",
            " [9.9124164e-10 9.9999475e-01 3.4436846e-06 2.0338741e-11 5.0981919e-07\n",
            "  3.0812617e-09 5.4407792e-08 2.9814046e-07 9.1651572e-07 3.3924103e-08]\n",
            " [1.0840353e-15 9.6714154e-15 7.1723210e-13 1.9518684e-15 9.9998677e-01\n",
            "  1.5783735e-10 2.3312390e-14 4.7729848e-10 1.3080681e-05 1.7705503e-07]\n",
            " [1.7823848e-10 3.1752405e-09 1.8738237e-06 4.1235248e-07 1.0714507e-06\n",
            "  1.7830972e-08 2.2499652e-12 4.5490247e-09 4.1220935e-07 9.9999630e-01]\n",
            " [3.0987489e-12 4.0318755e-12 6.0770331e-14 3.5916884e-14 5.7721235e-16\n",
            "  9.9999642e-01 3.3001497e-06 3.2898516e-14 2.0585277e-07 1.2763314e-12]]\n",
            "[7 2 1 0 4 1 4 9 5]\n"
          ],
          "name": "stdout"
        }
      ]
    },
    {
      "cell_type": "code",
      "metadata": {
        "id": "9tvptcn8dxvp",
        "colab_type": "code",
        "colab": {}
      },
      "source": [
        ""
      ],
      "execution_count": 0,
      "outputs": []
    }
  ]
}