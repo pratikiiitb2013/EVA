{
  "nbformat": 4,
  "nbformat_minor": 0,
  "metadata": {
    "colab": {
      "name": "Assignment_5.ipynb",
      "version": "0.3.2",
      "provenance": [],
      "collapsed_sections": [],
      "include_colab_link": true
    },
    "kernelspec": {
      "name": "python3",
      "display_name": "Python 3"
    },
    "accelerator": "GPU"
  },
  "cells": [
    {
      "cell_type": "markdown",
      "metadata": {
        "id": "view-in-github",
        "colab_type": "text"
      },
      "source": [
        "<a href=\"https://colab.research.google.com/github/pratikiiitb2013/EVA/blob/master/Session5/Assignment_5.ipynb\" target=\"_parent\"><img src=\"https://colab.research.google.com/assets/colab-badge.svg\" alt=\"Open In Colab\"/></a>"
      ]
    },
    {
      "cell_type": "markdown",
      "metadata": {
        "id": "jIxVsbA-L8Rq",
        "colab_type": "text"
      },
      "source": [
        "### Assignment 5- \n",
        "* Added to assignment 4 last code.\n",
        "* Added image normalization, L2 regularization and Relu after batch norm iteratively.\n",
        "* Added code to save and load model with highest val. accuracy.\n",
        "* Added code to find out and plot, 25 top misclassified images.\n",
        "  \n",
        "### Learnings and conclusion- \n",
        "* Adding regularization, reduces over fitting, but not as much as when dropout was being used.\n",
        "* comparison - without dropout/regularization < with only regularization < with dropout.\n",
        "* In my view, dropout can be used instead of L2 regularization. L1 regularization can be used though to reduce #params/kernels.\n",
        "* relu after batch norm doesn't effect anything.\n",
        "* Tried normalizing only train images and not test images. It reduces accuracy too much. So, I think normalizing both is required, because if only train is normalized then we are training on smaller numerical nos, but trying to predict larger numerical nos in test set."
      ]
    },
    {
      "cell_type": "markdown",
      "metadata": {
        "id": "aNyZv-Ec52ot",
        "colab_type": "text"
      },
      "source": [
        "# **Import Libraries and modules**"
      ]
    },
    {
      "cell_type": "code",
      "metadata": {
        "id": "3m3w1Cw49Zkt",
        "colab_type": "code",
        "outputId": "63a9b9b2-05e6-4dda-9b6d-c33c397766a2",
        "colab": {
          "base_uri": "https://localhost:8080/",
          "height": 34
        }
      },
      "source": [
        "# https://keras.io/\n",
        "!pip install -q keras\n",
        "import keras"
      ],
      "execution_count": 1,
      "outputs": [
        {
          "output_type": "stream",
          "text": [
            "Using TensorFlow backend.\n"
          ],
          "name": "stderr"
        }
      ]
    },
    {
      "cell_type": "code",
      "metadata": {
        "id": "Eso6UHE080D4",
        "colab_type": "code",
        "colab": {}
      },
      "source": [
        "import numpy as np\n",
        "\n",
        "from keras.models import Sequential\n",
        "from keras.layers import Dense, Dropout, Activation, Flatten, Add, BatchNormalization\n",
        "from keras.preprocessing.image import ImageDataGenerator\n",
        "from keras.layers import Convolution2D, MaxPooling2D\n",
        "from keras.utils import np_utils\n",
        "from keras import regularizers\n",
        "\n",
        "from keras.datasets import mnist\n",
        "from keras.callbacks import ModelCheckpoint\n",
        "\n",
        "from sklearn.metrics import confusion_matrix\n",
        "import itertools\n",
        "import seaborn as sns"
      ],
      "execution_count": 0,
      "outputs": []
    },
    {
      "cell_type": "markdown",
      "metadata": {
        "id": "zByEi95J86RD",
        "colab_type": "text"
      },
      "source": [
        "### Load pre-shuffled MNIST data into train and test sets"
      ]
    },
    {
      "cell_type": "code",
      "metadata": {
        "id": "7eRM0QWN83PV",
        "colab_type": "code",
        "colab": {}
      },
      "source": [
        "(X_train, y_train), (X_test, y_test) = mnist.load_data()"
      ],
      "execution_count": 0,
      "outputs": []
    },
    {
      "cell_type": "code",
      "metadata": {
        "id": "4a4Be72j8-ZC",
        "colab_type": "code",
        "outputId": "fb84d2a1-3f30-49ec-8704-7d9052eb62f3",
        "colab": {
          "base_uri": "https://localhost:8080/",
          "height": 303
        }
      },
      "source": [
        "print (X_train.shape)\n",
        "from matplotlib import pyplot as plt\n",
        "%matplotlib inline\n",
        "plt.imshow(X_train[0])"
      ],
      "execution_count": 4,
      "outputs": [
        {
          "output_type": "stream",
          "text": [
            "(60000, 28, 28)\n"
          ],
          "name": "stdout"
        },
        {
          "output_type": "execute_result",
          "data": {
            "text/plain": [
              "<matplotlib.image.AxesImage at 0x7fcdcaa416a0>"
            ]
          },
          "metadata": {
            "tags": []
          },
          "execution_count": 4
        },
        {
          "output_type": "display_data",
          "data": {
            "image/png": "[encoded data removed]",
            "text/plain": [
              "<Figure size 432x288 with 1 Axes>"
            ]
          },
          "metadata": {
            "tags": []
          }
        }
      ]
    },
    {
      "cell_type": "code",
      "metadata": {
        "id": "dkmprriw9AnZ",
        "colab_type": "code",
        "colab": {}
      },
      "source": [
        "X_train = X_train.reshape(X_train.shape[0], 28, 28,1)\n",
        "X_test = X_test.reshape(X_test.shape[0], 28, 28,1)\n",
        "X_train = X_train.astype('float32')\n",
        "X_test = X_test.astype('float32')\n",
        "X_train /= 255\n",
        "X_test /= 255"
      ],
      "execution_count": 0,
      "outputs": []
    },
    {
      "cell_type": "code",
      "metadata": {
        "id": "X2m4YS4E9CRh",
        "colab_type": "code",
        "outputId": "2c4b8916-61c7-4a9e-8e87-1e80a73d9308",
        "colab": {
          "base_uri": "https://localhost:8080/",
          "height": 68
        }
      },
      "source": [
        "#### Normalizing train as well as test images ####\n",
        "\n",
        "datagen = ImageDataGenerator(featurewise_center=True, featurewise_std_normalization=True)\n",
        "datagen.fit(X_train)\n",
        "print('Data Generator mean=%.3f, std=%.3f' % (datagen.mean, datagen.std))\n",
        "iterator = datagen.flow(X_train, y_train, batch_size=len(X_train), shuffle=False)\n",
        "batchX, batchy = iterator.next()\n",
        "\n",
        "iterator_test = datagen.flow(X_test, y_test, batch_size=len(X_test), shuffle=False)\n",
        "batchX_t, batchy_t = iterator_test.next()\n",
        "\n",
        "print(batchX.shape, batchX.mean(), batchX.std())\n",
        "print(batchX_t.shape, batchX_t.mean(), batchX_t.std())"
      ],
      "execution_count": 6,
      "outputs": [
        {
          "output_type": "stream",
          "text": [
            "Data Generator mean=0.131, std=0.308\n",
            "(60000, 28, 28, 1) -4.9324944e-07 0.9999959\n",
            "(10000, 28, 28, 1) 0.006017289 1.0076967\n"
          ],
          "name": "stdout"
        }
      ]
    },
    {
      "cell_type": "code",
      "metadata": {
        "id": "0Mn0vAYD9DvB",
        "colab_type": "code",
        "outputId": "2040f20c-2169-4f06-96da-7afa67989629",
        "colab": {
          "base_uri": "https://localhost:8080/",
          "height": 85
        }
      },
      "source": [
        "#### testing, no effect on Y labels before and after normaization ####\n",
        "\n",
        "print(y_train[:10])\n",
        "print(batchy[:10])\n",
        "print(y_test[:10])\n",
        "print(batchy_t[:10])"
      ],
      "execution_count": 7,
      "outputs": [
        {
          "output_type": "stream",
          "text": [
            "[5 0 4 1 9 2 1 3 1 4]\n",
            "[5 0 4 1 9 2 1 3 1 4]\n",
            "[7 2 1 0 4 1 4 9 5 9]\n",
            "[7 2 1 0 4 1 4 9 5 9]\n"
          ],
          "name": "stdout"
        }
      ]
    },
    {
      "cell_type": "code",
      "metadata": {
        "id": "ZG8JiXR39FHC",
        "colab_type": "code",
        "colab": {}
      },
      "source": [
        "# Convert 1-dimensional class arrays to 10-dimensional class matrices\n",
        "Y_train = np_utils.to_categorical(batchy, 10)\n",
        "Y_test = np_utils.to_categorical(batchy_t, 10)"
      ],
      "execution_count": 0,
      "outputs": []
    },
    {
      "cell_type": "code",
      "metadata": {
        "id": "fYlFRvKS9HMB",
        "colab_type": "code",
        "outputId": "e93001d1-f524-4fb7-d057-0e0ef6b2a501",
        "colab": {
          "base_uri": "https://localhost:8080/",
          "height": 187
        }
      },
      "source": [
        "Y_train[:10]\n"
      ],
      "execution_count": 9,
      "outputs": [
        {
          "output_type": "execute_result",
          "data": {
            "text/plain": [
              "array([[0., 0., 0., 0., 0., 1., 0., 0., 0., 0.],\n",
              "       [1., 0., 0., 0., 0., 0., 0., 0., 0., 0.],\n",
              "       [0., 0., 0., 0., 1., 0., 0., 0., 0., 0.],\n",
              "       [0., 1., 0., 0., 0., 0., 0., 0., 0., 0.],\n",
              "       [0., 0., 0., 0., 0., 0., 0., 0., 0., 1.],\n",
              "       [0., 0., 1., 0., 0., 0., 0., 0., 0., 0.],\n",
              "       [0., 1., 0., 0., 0., 0., 0., 0., 0., 0.],\n",
              "       [0., 0., 0., 1., 0., 0., 0., 0., 0., 0.],\n",
              "       [0., 1., 0., 0., 0., 0., 0., 0., 0., 0.],\n",
              "       [0., 0., 0., 0., 1., 0., 0., 0., 0., 0.]], dtype=float32)"
            ]
          },
          "metadata": {
            "tags": []
          },
          "execution_count": 9
        }
      ]
    },
    {
      "cell_type": "code",
      "metadata": {
        "id": "osKqT73Q9JJB",
        "colab_type": "code",
        "outputId": "a1d67ad7-82f8-41ec-c04b-350cd6ed071d",
        "colab": {
          "base_uri": "https://localhost:8080/",
          "height": 292
        }
      },
      "source": [
        "from keras.layers import Activation\n",
        "model = Sequential()\n",
        "\n",
        "\n",
        "model.add(Convolution2D(18, 3, 3, kernel_regularizer=regularizers.l2(0.001), input_shape=(28,28,1)))\n",
        "model.add(BatchNormalization())\n",
        "model.add(Activation('relu'))\n",
        "model.add(Dropout(0.10))\n",
        "model.add(Convolution2D(23, 3, 3, kernel_regularizer=regularizers.l2(0.001)))\n",
        "model.add(BatchNormalization())\n",
        "model.add(Activation('relu'))\n",
        "\n",
        "model.add(MaxPooling2D(pool_size=(2, 2)))\n",
        "model.add(Convolution2D(18, 1, 1, kernel_regularizer=regularizers.l2(0.001)))\n",
        "model.add(BatchNormalization())\n",
        "model.add(Activation('relu'))\n",
        "model.add(Dropout(0.10))\n",
        "model.add(Convolution2D(23, 3, 3, kernel_regularizer=regularizers.l2(0.001)))\n",
        "model.add(BatchNormalization())\n",
        "model.add(Activation('relu'))\n",
        "\n",
        "model.add(MaxPooling2D(pool_size=(2, 2)))\n",
        "model.add(Convolution2D(18, 1, 1, kernel_regularizer=regularizers.l2(0.001)))\n",
        "model.add(BatchNormalization())\n",
        "model.add(Activation('relu'))\n",
        "model.add(Dropout(0.10))\n",
        "model.add(Convolution2D(23, 3, 3, kernel_regularizer=regularizers.l2(0.001)))\n",
        "model.add(BatchNormalization())\n",
        "model.add(Activation('relu'))\n",
        "model.add(Dropout(0.10))\n",
        "model.add(Convolution2D(10, 3, kernel_regularizer=regularizers.l2(0.001)))\n",
        "model.add(Flatten())\n",
        "model.add(Activation('softmax'))\n"
      ],
      "execution_count": 10,
      "outputs": [
        {
          "output_type": "stream",
          "text": [
            "WARNING:tensorflow:From /usr/local/lib/python3.6/dist-packages/tensorflow/python/framework/op_def_library.py:263: colocate_with (from tensorflow.python.framework.ops) is deprecated and will be removed in a future version.\n",
            "Instructions for updating:\n",
            "Colocations handled automatically by placer.\n"
          ],
          "name": "stdout"
        },
        {
          "output_type": "stream",
          "text": [
            "/usr/local/lib/python3.6/dist-packages/ipykernel_launcher.py:5: UserWarning: Update your `Conv2D` call to the Keras 2 API: `Conv2D(18, (3, 3), kernel_regularizer=<keras.reg..., input_shape=(28, 28, 1...)`\n",
            "  \"\"\"\n"
          ],
          "name": "stderr"
        },
        {
          "output_type": "stream",
          "text": [
            "WARNING:tensorflow:From /usr/local/lib/python3.6/dist-packages/keras/backend/tensorflow_backend.py:3445: calling dropout (from tensorflow.python.ops.nn_ops) with keep_prob is deprecated and will be removed in a future version.\n",
            "Instructions for updating:\n",
            "Please use `rate` instead of `keep_prob`. Rate should be set to `rate = 1 - keep_prob`.\n"
          ],
          "name": "stdout"
        },
        {
          "output_type": "stream",
          "text": [
            "/usr/local/lib/python3.6/dist-packages/ipykernel_launcher.py:9: UserWarning: Update your `Conv2D` call to the Keras 2 API: `Conv2D(23, (3, 3), kernel_regularizer=<keras.reg...)`\n",
            "  if __name__ == '__main__':\n",
            "/usr/local/lib/python3.6/dist-packages/ipykernel_launcher.py:14: UserWarning: Update your `Conv2D` call to the Keras 2 API: `Conv2D(18, (1, 1), kernel_regularizer=<keras.reg...)`\n",
            "  \n",
            "/usr/local/lib/python3.6/dist-packages/ipykernel_launcher.py:18: UserWarning: Update your `Conv2D` call to the Keras 2 API: `Conv2D(23, (3, 3), kernel_regularizer=<keras.reg...)`\n",
            "/usr/local/lib/python3.6/dist-packages/ipykernel_launcher.py:23: UserWarning: Update your `Conv2D` call to the Keras 2 API: `Conv2D(18, (1, 1), kernel_regularizer=<keras.reg...)`\n",
            "/usr/local/lib/python3.6/dist-packages/ipykernel_launcher.py:27: UserWarning: Update your `Conv2D` call to the Keras 2 API: `Conv2D(23, (3, 3), kernel_regularizer=<keras.reg...)`\n"
          ],
          "name": "stderr"
        }
      ]
    },
    {
      "cell_type": "code",
      "metadata": {
        "id": "TzdAYg1k9K7Z",
        "colab_type": "code",
        "outputId": "94f97281-c9f1-4a34-f02c-e51cf44d4aa2",
        "colab": {
          "base_uri": "https://localhost:8080/",
          "height": 1054
        }
      },
      "source": [
        "model.summary()"
      ],
      "execution_count": 11,
      "outputs": [
        {
          "output_type": "stream",
          "text": [
            "_________________________________________________________________\n",
            "Layer (type)                 Output Shape              Param #   \n",
            "=================================================================\n",
            "conv2d_1 (Conv2D)            (None, 26, 26, 18)        180       \n",
            "_________________________________________________________________\n",
            "batch_normalization_1 (Batch (None, 26, 26, 18)        72        \n",
            "_________________________________________________________________\n",
            "activation_1 (Activation)    (None, 26, 26, 18)        0         \n",
            "_________________________________________________________________\n",
            "dropout_1 (Dropout)          (None, 26, 26, 18)        0         \n",
            "_________________________________________________________________\n",
            "conv2d_2 (Conv2D)            (None, 24, 24, 23)        3749      \n",
            "_________________________________________________________________\n",
            "batch_normalization_2 (Batch (None, 24, 24, 23)        92        \n",
            "_________________________________________________________________\n",
            "activation_2 (Activation)    (None, 24, 24, 23)        0         \n",
            "_________________________________________________________________\n",
            "max_pooling2d_1 (MaxPooling2 (None, 12, 12, 23)        0         \n",
            "_________________________________________________________________\n",
            "conv2d_3 (Conv2D)            (None, 12, 12, 18)        432       \n",
            "_________________________________________________________________\n",
            "batch_normalization_3 (Batch (None, 12, 12, 18)        72        \n",
            "_________________________________________________________________\n",
            "activation_3 (Activation)    (None, 12, 12, 18)        0         \n",
            "_________________________________________________________________\n",
            "dropout_2 (Dropout)          (None, 12, 12, 18)        0         \n",
            "_________________________________________________________________\n",
            "conv2d_4 (Conv2D)            (None, 10, 10, 23)        3749      \n",
            "_________________________________________________________________\n",
            "batch_normalization_4 (Batch (None, 10, 10, 23)        92        \n",
            "_________________________________________________________________\n",
            "activation_4 (Activation)    (None, 10, 10, 23)        0         \n",
            "_________________________________________________________________\n",
            "max_pooling2d_2 (MaxPooling2 (None, 5, 5, 23)          0         \n",
            "_________________________________________________________________\n",
            "conv2d_5 (Conv2D)            (None, 5, 5, 18)          432       \n",
            "_________________________________________________________________\n",
            "batch_normalization_5 (Batch (None, 5, 5, 18)          72        \n",
            "_________________________________________________________________\n",
            "activation_5 (Activation)    (None, 5, 5, 18)          0         \n",
            "_________________________________________________________________\n",
            "dropout_3 (Dropout)          (None, 5, 5, 18)          0         \n",
            "_________________________________________________________________\n",
            "conv2d_6 (Conv2D)            (None, 3, 3, 23)          3749      \n",
            "_________________________________________________________________\n",
            "batch_normalization_6 (Batch (None, 3, 3, 23)          92        \n",
            "_________________________________________________________________\n",
            "activation_6 (Activation)    (None, 3, 3, 23)          0         \n",
            "_________________________________________________________________\n",
            "dropout_4 (Dropout)          (None, 3, 3, 23)          0         \n",
            "_________________________________________________________________\n",
            "conv2d_7 (Conv2D)            (None, 1, 1, 10)          2080      \n",
            "_________________________________________________________________\n",
            "flatten_1 (Flatten)          (None, 10)                0         \n",
            "_________________________________________________________________\n",
            "activation_7 (Activation)    (None, 10)                0         \n",
            "=================================================================\n",
            "Total params: 14,863\n",
            "Trainable params: 14,617\n",
            "Non-trainable params: 246\n",
            "_________________________________________________________________\n"
          ],
          "name": "stdout"
        }
      ]
    },
    {
      "cell_type": "code",
      "metadata": {
        "id": "4xWoKhPY9Of5",
        "colab_type": "code",
        "outputId": "115072e1-3ae6-4c77-c17b-6709e6da3896",
        "colab": {
          "base_uri": "https://localhost:8080/",
          "height": 4202
        }
      },
      "source": [
        "\n",
        "from keras.optimizers import Adam\n",
        "from keras.callbacks import LearningRateScheduler\n",
        "def scheduler(epoch, lr):\n",
        "  return round(0.003 * 1/(1 + 0.319 * epoch), 10)\n",
        "\n",
        "model.compile(loss='categorical_crossentropy', optimizer=Adam(lr=0.003), metrics=['accuracy'])\n",
        "\n",
        "# checkpoint for best model\n",
        "# filepath=\"weights-improvement-{epoch:02d}-{val_acc:.4f}.hdf5\"\n",
        "filepath=\"weights.best.hdf5\"\n",
        "checkpoint = ModelCheckpoint(filepath, monitor='val_acc', verbose=1, save_best_only=True, mode='max')\n",
        "callbacks_list = [checkpoint, LearningRateScheduler(scheduler, verbose=1)]\n",
        "\n",
        "model.fit(batchX, Y_train, batch_size=32, epochs=40, verbose=1, validation_data=(batchX_t, Y_test), callbacks=callbacks_list)\n",
        "\n",
        "\n"
      ],
      "execution_count": 12,
      "outputs": [
        {
          "output_type": "stream",
          "text": [
            "WARNING:tensorflow:From /usr/local/lib/python3.6/dist-packages/tensorflow/python/ops/math_ops.py:3066: to_int32 (from tensorflow.python.ops.math_ops) is deprecated and will be removed in a future version.\n",
            "Instructions for updating:\n",
            "Use tf.cast instead.\n",
            "Train on 60000 samples, validate on 10000 samples\n",
            "Epoch 1/40\n",
            "\n",
            "Epoch 00001: LearningRateScheduler setting learning rate to 0.003.\n",
            "60000/60000 [==============================] - 26s 431us/step - loss: 0.2544 - acc: 0.9553 - val_loss: 0.2240 - val_acc: 0.9569\n",
            "\n",
            "Epoch 00001: val_acc improved from -inf to 0.95690, saving model to weights.best.hdf5\n",
            "Epoch 2/40\n",
            "\n",
            "Epoch 00002: LearningRateScheduler setting learning rate to 0.0022744503.\n",
            "60000/60000 [==============================] - 23s 383us/step - loss: 0.1501 - acc: 0.9771 - val_loss: 0.1376 - val_acc: 0.9784\n",
            "\n",
            "Epoch 00002: val_acc improved from 0.95690 to 0.97840, saving model to weights.best.hdf5\n",
            "Epoch 3/40\n",
            "\n",
            "Epoch 00003: LearningRateScheduler setting learning rate to 0.0018315018.\n",
            "60000/60000 [==============================] - 23s 384us/step - loss: 0.1299 - acc: 0.9790 - val_loss: 0.1153 - val_acc: 0.9835\n",
            "\n",
            "Epoch 00003: val_acc improved from 0.97840 to 0.98350, saving model to weights.best.hdf5\n",
            "Epoch 4/40\n",
            "\n",
            "Epoch 00004: LearningRateScheduler setting learning rate to 0.0015329586.\n",
            "60000/60000 [==============================] - 23s 385us/step - loss: 0.1141 - acc: 0.9817 - val_loss: 0.1043 - val_acc: 0.9830\n",
            "\n",
            "Epoch 00004: val_acc did not improve from 0.98350\n",
            "Epoch 5/40\n",
            "\n",
            "Epoch 00005: LearningRateScheduler setting learning rate to 0.0013181019.\n",
            "60000/60000 [==============================] - 23s 386us/step - loss: 0.1033 - acc: 0.9834 - val_loss: 0.0866 - val_acc: 0.9888\n",
            "\n",
            "Epoch 00005: val_acc improved from 0.98350 to 0.98880, saving model to weights.best.hdf5\n",
            "Epoch 6/40\n",
            "\n",
            "Epoch 00006: LearningRateScheduler setting learning rate to 0.0011560694.\n",
            "60000/60000 [==============================] - 23s 385us/step - loss: 0.0947 - acc: 0.9847 - val_loss: 0.0736 - val_acc: 0.9906\n",
            "\n",
            "Epoch 00006: val_acc improved from 0.98880 to 0.99060, saving model to weights.best.hdf5\n",
            "Epoch 7/40\n",
            "\n",
            "Epoch 00007: LearningRateScheduler setting learning rate to 0.0010295127.\n",
            "60000/60000 [==============================] - 23s 383us/step - loss: 0.0887 - acc: 0.9856 - val_loss: 0.0725 - val_acc: 0.9896\n",
            "\n",
            "Epoch 00007: val_acc did not improve from 0.99060\n",
            "Epoch 8/40\n",
            "\n",
            "Epoch 00008: LearningRateScheduler setting learning rate to 0.0009279307.\n",
            "60000/60000 [==============================] - 23s 377us/step - loss: 0.0839 - acc: 0.9859 - val_loss: 0.0681 - val_acc: 0.9914\n",
            "\n",
            "Epoch 00008: val_acc improved from 0.99060 to 0.99140, saving model to weights.best.hdf5\n",
            "Epoch 9/40\n",
            "\n",
            "Epoch 00009: LearningRateScheduler setting learning rate to 0.0008445946.\n",
            "60000/60000 [==============================] - 23s 383us/step - loss: 0.0776 - acc: 0.9877 - val_loss: 0.0631 - val_acc: 0.9906\n",
            "\n",
            "Epoch 00009: val_acc did not improve from 0.99140\n",
            "Epoch 10/40\n",
            "\n",
            "Epoch 00010: LearningRateScheduler setting learning rate to 0.0007749935.\n",
            "60000/60000 [==============================] - 23s 379us/step - loss: 0.0747 - acc: 0.9875 - val_loss: 0.0606 - val_acc: 0.9914\n",
            "\n",
            "Epoch 00010: val_acc did not improve from 0.99140\n",
            "Epoch 11/40\n",
            "\n",
            "Epoch 00011: LearningRateScheduler setting learning rate to 0.0007159905.\n",
            "60000/60000 [==============================] - 23s 379us/step - loss: 0.0725 - acc: 0.9882 - val_loss: 0.0605 - val_acc: 0.9906\n",
            "\n",
            "Epoch 00011: val_acc did not improve from 0.99140\n",
            "Epoch 12/40\n",
            "\n",
            "Epoch 00012: LearningRateScheduler setting learning rate to 0.000665336.\n",
            "60000/60000 [==============================] - 23s 379us/step - loss: 0.0685 - acc: 0.9886 - val_loss: 0.0589 - val_acc: 0.9916\n",
            "\n",
            "Epoch 00012: val_acc improved from 0.99140 to 0.99160, saving model to weights.best.hdf5\n",
            "Epoch 13/40\n",
            "\n",
            "Epoch 00013: LearningRateScheduler setting learning rate to 0.0006213753.\n",
            "60000/60000 [==============================] - 23s 381us/step - loss: 0.0657 - acc: 0.9893 - val_loss: 0.0535 - val_acc: 0.9920\n",
            "\n",
            "Epoch 00013: val_acc improved from 0.99160 to 0.99200, saving model to weights.best.hdf5\n",
            "Epoch 14/40\n",
            "\n",
            "Epoch 00014: LearningRateScheduler setting learning rate to 0.0005828638.\n",
            "60000/60000 [==============================] - 23s 381us/step - loss: 0.0633 - acc: 0.9890 - val_loss: 0.0562 - val_acc: 0.9911\n",
            "\n",
            "Epoch 00014: val_acc did not improve from 0.99200\n",
            "Epoch 15/40\n",
            "\n",
            "Epoch 00015: LearningRateScheduler setting learning rate to 0.0005488474.\n",
            "60000/60000 [==============================] - 23s 379us/step - loss: 0.0618 - acc: 0.9894 - val_loss: 0.0506 - val_acc: 0.9921\n",
            "\n",
            "Epoch 00015: val_acc improved from 0.99200 to 0.99210, saving model to weights.best.hdf5\n",
            "Epoch 16/40\n",
            "\n",
            "Epoch 00016: LearningRateScheduler setting learning rate to 0.0005185825.\n",
            "60000/60000 [==============================] - 23s 381us/step - loss: 0.0599 - acc: 0.9899 - val_loss: 0.0494 - val_acc: 0.9928\n",
            "\n",
            "Epoch 00016: val_acc improved from 0.99210 to 0.99280, saving model to weights.best.hdf5\n",
            "Epoch 17/40\n",
            "\n",
            "Epoch 00017: LearningRateScheduler setting learning rate to 0.000491481.\n",
            "60000/60000 [==============================] - 23s 386us/step - loss: 0.0587 - acc: 0.9901 - val_loss: 0.0513 - val_acc: 0.9921\n",
            "\n",
            "Epoch 00017: val_acc did not improve from 0.99280\n",
            "Epoch 18/40\n",
            "\n",
            "Epoch 00018: LearningRateScheduler setting learning rate to 0.0004670715.\n",
            "60000/60000 [==============================] - 23s 382us/step - loss: 0.0562 - acc: 0.9899 - val_loss: 0.0482 - val_acc: 0.9929\n",
            "\n",
            "Epoch 00018: val_acc improved from 0.99280 to 0.99290, saving model to weights.best.hdf5\n",
            "Epoch 19/40\n",
            "\n",
            "Epoch 00019: LearningRateScheduler setting learning rate to 0.0004449718.\n",
            "60000/60000 [==============================] - 23s 379us/step - loss: 0.0551 - acc: 0.9903 - val_loss: 0.0458 - val_acc: 0.9934\n",
            "\n",
            "Epoch 00019: val_acc improved from 0.99290 to 0.99340, saving model to weights.best.hdf5\n",
            "Epoch 20/40\n",
            "\n",
            "Epoch 00020: LearningRateScheduler setting learning rate to 0.000424869.\n",
            "60000/60000 [==============================] - 23s 382us/step - loss: 0.0532 - acc: 0.9906 - val_loss: 0.0506 - val_acc: 0.9908\n",
            "\n",
            "Epoch 00020: val_acc did not improve from 0.99340\n",
            "Epoch 21/40\n",
            "\n",
            "Epoch 00021: LearningRateScheduler setting learning rate to 0.0004065041.\n",
            "60000/60000 [==============================] - 23s 379us/step - loss: 0.0517 - acc: 0.9915 - val_loss: 0.0467 - val_acc: 0.9932\n",
            "\n",
            "Epoch 00021: val_acc did not improve from 0.99340\n",
            "Epoch 22/40\n",
            "\n",
            "Epoch 00022: LearningRateScheduler setting learning rate to 0.000389661.\n",
            "60000/60000 [==============================] - 23s 379us/step - loss: 0.0513 - acc: 0.9910 - val_loss: 0.0511 - val_acc: 0.9906\n",
            "\n",
            "Epoch 00022: val_acc did not improve from 0.99340\n",
            "Epoch 23/40\n",
            "\n",
            "Epoch 00023: LearningRateScheduler setting learning rate to 0.0003741581.\n",
            "60000/60000 [==============================] - 23s 380us/step - loss: 0.0499 - acc: 0.9915 - val_loss: 0.0414 - val_acc: 0.9936\n",
            "\n",
            "Epoch 00023: val_acc improved from 0.99340 to 0.99360, saving model to weights.best.hdf5\n",
            "Epoch 24/40\n",
            "\n",
            "Epoch 00024: LearningRateScheduler setting learning rate to 0.0003598417.\n",
            "60000/60000 [==============================] - 23s 379us/step - loss: 0.0481 - acc: 0.9915 - val_loss: 0.0427 - val_acc: 0.9931\n",
            "\n",
            "Epoch 00024: val_acc did not improve from 0.99360\n",
            "Epoch 25/40\n",
            "\n",
            "Epoch 00025: LearningRateScheduler setting learning rate to 0.0003465804.\n",
            "60000/60000 [==============================] - 23s 382us/step - loss: 0.0475 - acc: 0.9923 - val_loss: 0.0413 - val_acc: 0.9936\n",
            "\n",
            "Epoch 00025: val_acc did not improve from 0.99360\n",
            "Epoch 26/40\n",
            "\n",
            "Epoch 00026: LearningRateScheduler setting learning rate to 0.0003342618.\n",
            "60000/60000 [==============================] - 23s 378us/step - loss: 0.0475 - acc: 0.9921 - val_loss: 0.0401 - val_acc: 0.9938\n",
            "\n",
            "Epoch 00026: val_acc improved from 0.99360 to 0.99380, saving model to weights.best.hdf5\n",
            "Epoch 27/40\n",
            "\n",
            "Epoch 00027: LearningRateScheduler setting learning rate to 0.0003227889.\n",
            "60000/60000 [==============================] - 23s 382us/step - loss: 0.0459 - acc: 0.9922 - val_loss: 0.0401 - val_acc: 0.9938\n",
            "\n",
            "Epoch 00027: val_acc did not improve from 0.99380\n",
            "Epoch 28/40\n",
            "\n",
            "Epoch 00028: LearningRateScheduler setting learning rate to 0.0003120774.\n",
            "60000/60000 [==============================] - 23s 380us/step - loss: 0.0469 - acc: 0.9917 - val_loss: 0.0390 - val_acc: 0.9944\n",
            "\n",
            "Epoch 00028: val_acc improved from 0.99380 to 0.99440, saving model to weights.best.hdf5\n",
            "Epoch 29/40\n",
            "\n",
            "Epoch 00029: LearningRateScheduler setting learning rate to 0.000302054.\n",
            "60000/60000 [==============================] - 23s 381us/step - loss: 0.0449 - acc: 0.9923 - val_loss: 0.0412 - val_acc: 0.9925\n",
            "\n",
            "Epoch 00029: val_acc did not improve from 0.99440\n",
            "Epoch 30/40\n",
            "\n",
            "Epoch 00030: LearningRateScheduler setting learning rate to 0.0002926544.\n",
            "60000/60000 [==============================] - 23s 387us/step - loss: 0.0424 - acc: 0.9926 - val_loss: 0.0385 - val_acc: 0.9937\n",
            "\n",
            "Epoch 00030: val_acc did not improve from 0.99440\n",
            "Epoch 31/40\n",
            "\n",
            "Epoch 00031: LearningRateScheduler setting learning rate to 0.0002838221.\n",
            "60000/60000 [==============================] - 23s 386us/step - loss: 0.0430 - acc: 0.9922 - val_loss: 0.0381 - val_acc: 0.9937\n",
            "\n",
            "Epoch 00031: val_acc did not improve from 0.99440\n",
            "Epoch 32/40\n",
            "\n",
            "Epoch 00032: LearningRateScheduler setting learning rate to 0.0002755074.\n",
            "60000/60000 [==============================] - 23s 379us/step - loss: 0.0415 - acc: 0.9929 - val_loss: 0.0399 - val_acc: 0.9936\n",
            "\n",
            "Epoch 00032: val_acc did not improve from 0.99440\n",
            "Epoch 33/40\n",
            "\n",
            "Epoch 00033: LearningRateScheduler setting learning rate to 0.000267666.\n",
            "60000/60000 [==============================] - 23s 383us/step - loss: 0.0417 - acc: 0.9930 - val_loss: 0.0392 - val_acc: 0.9931\n",
            "\n",
            "Epoch 00033: val_acc did not improve from 0.99440\n",
            "Epoch 34/40\n",
            "\n",
            "Epoch 00034: LearningRateScheduler setting learning rate to 0.0002602585.\n",
            "60000/60000 [==============================] - 23s 380us/step - loss: 0.0402 - acc: 0.9929 - val_loss: 0.0394 - val_acc: 0.9931\n",
            "\n",
            "Epoch 00034: val_acc did not improve from 0.99440\n",
            "Epoch 35/40\n",
            "\n",
            "Epoch 00035: LearningRateScheduler setting learning rate to 0.00025325.\n",
            "60000/60000 [==============================] - 23s 379us/step - loss: 0.0407 - acc: 0.9931 - val_loss: 0.0396 - val_acc: 0.9932\n",
            "\n",
            "Epoch 00035: val_acc did not improve from 0.99440\n",
            "Epoch 36/40\n",
            "\n",
            "Epoch 00036: LearningRateScheduler setting learning rate to 0.0002466091.\n",
            "60000/60000 [==============================] - 23s 381us/step - loss: 0.0396 - acc: 0.9934 - val_loss: 0.0367 - val_acc: 0.9936\n",
            "\n",
            "Epoch 00036: val_acc did not improve from 0.99440\n",
            "Epoch 37/40\n",
            "\n",
            "Epoch 00037: LearningRateScheduler setting learning rate to 0.0002403076.\n",
            "60000/60000 [==============================] - 23s 384us/step - loss: 0.0395 - acc: 0.9931 - val_loss: 0.0375 - val_acc: 0.9931\n",
            "\n",
            "Epoch 00037: val_acc did not improve from 0.99440\n",
            "Epoch 38/40\n",
            "\n",
            "Epoch 00038: LearningRateScheduler setting learning rate to 0.0002343201.\n",
            "60000/60000 [==============================] - 23s 384us/step - loss: 0.0397 - acc: 0.9927 - val_loss: 0.0371 - val_acc: 0.9929\n",
            "\n",
            "Epoch 00038: val_acc did not improve from 0.99440\n",
            "Epoch 39/40\n",
            "\n",
            "Epoch 00039: LearningRateScheduler setting learning rate to 0.0002286237.\n",
            "60000/60000 [==============================] - 23s 379us/step - loss: 0.0384 - acc: 0.9936 - val_loss: 0.0376 - val_acc: 0.9927\n",
            "\n",
            "Epoch 00039: val_acc did not improve from 0.99440\n",
            "Epoch 40/40\n",
            "\n",
            "Epoch 00040: LearningRateScheduler setting learning rate to 0.0002231977.\n",
            "60000/60000 [==============================] - 23s 381us/step - loss: 0.0371 - acc: 0.9937 - val_loss: 0.0372 - val_acc: 0.9931\n",
            "\n",
            "Epoch 00040: val_acc did not improve from 0.99440\n"
          ],
          "name": "stdout"
        },
        {
          "output_type": "execute_result",
          "data": {
            "text/plain": [
              "<keras.callbacks.History at 0x7fcdb11b1e48>"
            ]
          },
          "metadata": {
            "tags": []
          },
          "execution_count": 12
        }
      ]
    },
    {
      "cell_type": "code",
      "metadata": {
        "id": "Rkikdyl7_tRO",
        "colab_type": "code",
        "colab": {}
      },
      "source": [
        "# load weights of best model\n",
        "model.load_weights(\"weights.best.hdf5\")"
      ],
      "execution_count": 0,
      "outputs": []
    },
    {
      "cell_type": "code",
      "metadata": {
        "id": "AtsH-lLk-eLb",
        "colab_type": "code",
        "colab": {}
      },
      "source": [
        "score = model.evaluate(batchX_t, Y_test, verbose=0)"
      ],
      "execution_count": 0,
      "outputs": []
    },
    {
      "cell_type": "code",
      "metadata": {
        "id": "mkX8JMv79q9r",
        "colab_type": "code",
        "outputId": "338f74ed-4e60-4aae-f6bd-e8fec9f508d1",
        "colab": {
          "base_uri": "https://localhost:8080/",
          "height": 34
        }
      },
      "source": [
        "print(score)"
      ],
      "execution_count": 15,
      "outputs": [
        {
          "output_type": "stream",
          "text": [
            "[0.039042757520079616, 0.9944]\n"
          ],
          "name": "stdout"
        }
      ]
    },
    {
      "cell_type": "code",
      "metadata": {
        "id": "9tvptcn8dxvp",
        "colab_type": "code",
        "colab": {
          "base_uri": "https://localhost:8080/",
          "height": 311
        },
        "outputId": "c76f3b98-4da8-4164-8422-8a99fdcb6aea"
      },
      "source": [
        "#### plotting the confusion matrix on validation data ####\n",
        "\n",
        "def plot_confusion_matrix(cm, classes,\n",
        "                          normalize=False,\n",
        "                          title='Confusion matrix',\n",
        "                          cmap=plt.cm.Blues):\n",
        "    \"\"\"\n",
        "    This function prints and plots the confusion matrix.\n",
        "    Normalization can be applied by setting `normalize=True`.\n",
        "    \"\"\"\n",
        "    plt.imshow(cm, interpolation='nearest', cmap=cmap)\n",
        "    plt.title(title)\n",
        "    plt.colorbar()\n",
        "    tick_marks = np.arange(len(classes))\n",
        "    plt.xticks(tick_marks, classes, rotation=45)\n",
        "    plt.yticks(tick_marks, classes)\n",
        "\n",
        "    if normalize:\n",
        "        cm = cm.astype('float') / cm.sum(axis=1)[:, np.newaxis]\n",
        "\n",
        "    thresh = cm.max() / 2.\n",
        "    for i, j in itertools.product(range(cm.shape[0]), range(cm.shape[1])):\n",
        "        plt.text(j, i, cm[i, j],\n",
        "                 horizontalalignment=\"center\",\n",
        "                 color=\"white\" if cm[i, j] > thresh else \"black\")\n",
        "\n",
        "    plt.tight_layout()\n",
        "    plt.ylabel('True label')\n",
        "    plt.xlabel('Predicted label')\n",
        "\n",
        "# Predict the values from the validation dataset\n",
        "Y_pred = model.predict(batchX_t)\n",
        "# Convert predictions classes to one hot vectors \n",
        "Y_pred_classes = np.argmax(Y_pred, axis = 1) \n",
        "# Convert validation observations to one hot vectors\n",
        "Y_true = np.argmax(Y_test, axis = 1) \n",
        "# compute the confusion matrix\n",
        "confusion_mtx = confusion_matrix(Y_true, Y_pred_classes) \n",
        "# plot the confusion matrix\n",
        "plot_confusion_matrix(confusion_mtx, classes = range(10))"
      ],
      "execution_count": 16,
      "outputs": [
        {
          "output_type": "display_data",
          "data": {
            "image/png": "[encoded data removed]",
            "text/plain": [
              "<Figure size 432x288 with 2 Axes>"
            ]
          },
          "metadata": {
            "tags": []
          }
        }
      ]
    },
    {
      "cell_type": "code",
      "metadata": {
        "id": "TWDmd-811JKj",
        "colab_type": "code",
        "colab": {
          "base_uri": "https://localhost:8080/",
          "height": 610
        },
        "outputId": "cd2eb0f3-9f5f-4c57-9228-dead2da0958f"
      },
      "source": [
        "#### plotting 25 top misclassified images in validation set ####\n",
        "\n",
        "errors = (Y_pred_classes - Y_true != 0)\n",
        "\n",
        "Y_pred_classes_errors = Y_pred_classes[errors]\n",
        "Y_pred_errors = Y_pred[errors]\n",
        "Y_true_errors = Y_true[errors]\n",
        "X_val_errors = batchX_t[errors]\n",
        "\n",
        "sns.set(rc={'figure.figsize':(20,10)})\n",
        "\n",
        "def display_errors(errors_index,img_errors,pred_errors, obs_errors):\n",
        "    \"\"\" This function shows 25 images with their predicted and real labels\"\"\"\n",
        "    n = 0\n",
        "    nrows = 5\n",
        "    ncols = 5\n",
        "    fig, ax = plt.subplots(nrows,ncols,sharex=True,sharey=True)\n",
        "    for row in range(nrows):\n",
        "        for col in range(ncols):\n",
        "            error = errors_index[n]\n",
        "            ax[row,col].imshow((img_errors[error]).reshape((28,28)))\n",
        "            ax[row,col].set_title(\"Predicted label :{} , True label :{}\".format(pred_errors[error],obs_errors[error]))\n",
        "            n += 1\n",
        "\n",
        "# Probabilities of the wrong predicted numbers\n",
        "Y_pred_errors_prob = np.max(Y_pred_errors,axis = 1)\n",
        "\n",
        "# Predicted probabilities of the true values in the error set\n",
        "true_prob_errors = np.diagonal(np.take(Y_pred_errors, Y_true_errors, axis=1))\n",
        "\n",
        "# Difference between the probability of the predicted label and the true label\n",
        "delta_pred_true_errors = Y_pred_errors_prob - true_prob_errors\n",
        "\n",
        "# Sorted list of the delta prob errors\n",
        "sorted_dela_errors = np.argsort(delta_pred_true_errors)\n",
        "\n",
        "# Top 6 errors \n",
        "most_important_errors = sorted_dela_errors[-25:]\n",
        "\n",
        "# Show the top 6 errors\n",
        "display_errors(most_important_errors, X_val_errors, Y_pred_classes_errors, Y_true_errors)\n"
      ],
      "execution_count": 17,
      "outputs": [
        {
          "output_type": "display_data",
          "data": {
            "image/png": "[encoded data removed]",
            "text/plain": [
              "<Figure size 1440x720 with 25 Axes>"
            ]
          },
          "metadata": {
            "tags": []
          }
        }
      ]
    },
    {
      "cell_type": "code",
      "metadata": {
        "id": "k8EUuxy22MCr",
        "colab_type": "code",
        "colab": {
          "base_uri": "https://localhost:8080/",
          "height": 34
        },
        "outputId": "93bc896d-794c-4f0c-889e-183bf93220b7"
      },
      "source": [
        "len(Y_pred_classes_errors)"
      ],
      "execution_count": 18,
      "outputs": [
        {
          "output_type": "execute_result",
          "data": {
            "text/plain": [
              "56"
            ]
          },
          "metadata": {
            "tags": []
          },
          "execution_count": 18
        }
      ]
    },
    {
      "cell_type": "code",
      "metadata": {
        "id": "PvVg_d9cEsem",
        "colab_type": "code",
        "colab": {}
      },
      "source": [
        ""
      ],
      "execution_count": 0,
      "outputs": []
    }
  ]
}